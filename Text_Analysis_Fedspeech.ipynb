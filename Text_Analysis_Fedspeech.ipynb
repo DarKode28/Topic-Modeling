{
 "cells": [
  {
   "cell_type": "code",
   "execution_count": 208,
   "metadata": {},
   "outputs": [
    {
     "name": "stderr",
     "output_type": "stream",
     "text": [
      "Installing package into ‘/usr/local/lib/R/site-library’\n",
      "(as ‘lib’ is unspecified)\n"
     ]
    }
   ],
   "source": [
    "#Install and load library\n",
    "# update.packages(ask = FALSE)\n",
    "# install.packages(\"NLP\", dependencies=TRUE)\n",
    "# install.packages(\"slam\", dependencies=TRUE)\n",
    "# install.packages(\"tm\", dependencies=TRUE) # for text mining\n",
    "# install.package(\"SnowballC\", dependencies=TRUE) # for text stemming\n",
    "# install.packages(\"wordcloud\", dependencies=TRUE)# word-cloud generator\n",
    "# install.packages(\"RColorBrewer\", dependencies=TRUE) # color palettes\n",
    "# install.packages('lda', dependencies=TRUE)\n",
    "# install.packages('modeltools', dependencies=TRUE)\n",
    "# install.packages('stats4', dependencies=TRUE)\n",
    "# # install.packages('methods', dependencies=TRUE)\n",
    "# install.packages('toppicmodels', dependencies=TRUE)\n",
    "# install.packages('ggplot2', dependencies = TRUE)\n",
    "# install.packages(\"NbClust\", dependencies = TRUE)\n",
    "# install.packages(\"factoextra\", dependencies = TRUE)\n",
    "\n",
    "# install.packages(\"lda\", dependencies = TRUE)\n",
    "# install.packages(\"MASS\", dependencies = TRUE)\n",
    "# install.packages(\"topicmodels\", dependencies = TRUE)\n",
    "# install.packages(\"lsa\", dependencies = TRUE)\n",
    "# install.packages(\"text2vec\", dependencies = TRUE)\n",
    "install.packages(\"corrplot\", dependencies = TRUE)"
   ]
  },
  {
   "cell_type": "code",
   "execution_count": 2,
   "metadata": {
    "collapsed": true
   },
   "outputs": [],
   "source": [
    "setwd(\"/home/harish/PycharmProjects/Topic-Modeling/\")"
   ]
  },
  {
   "cell_type": "code",
   "execution_count": 3,
   "metadata": {},
   "outputs": [
    {
     "name": "stderr",
     "output_type": "stream",
     "text": [
      "Loading required package: RColorBrewer\n",
      "\n",
      "Attaching package: ‘ggplot2’\n",
      "\n",
      "The following object is masked from ‘package:NLP’:\n",
      "\n",
      "    annotate\n",
      "\n",
      "Welcome! Related Books: `Practical Guide To Cluster Analysis in R` at https://goo.gl/13EFCZ\n"
     ]
    }
   ],
   "source": [
    "library(NLP)\n",
    "library(tm)\n",
    "library(SnowballC)\n",
    "library(wordcloud)\n",
    "library(RColorBrewer)\n",
    "library(ggplot2)\n",
    "library(factoextra)\n",
    "# library(cluster)\n",
    "library(NbClust)\n",
    "library(lsa)\n",
    "# library(fpc)\n",
    "\n",
    "#LDA\n",
    "\n",
    "library(lda)\n",
    "library(MASS)\n",
    "library(topicmodels)"
   ]
  },
  {
   "cell_type": "code",
   "execution_count": 4,
   "metadata": {},
   "outputs": [
    {
     "data": {
      "text/plain": [
       "   Length     Class      Mode \n",
       "        1 character character "
      ]
     },
     "metadata": {},
     "output_type": "display_data"
    }
   ],
   "source": [
    "## BUILDING CORPUS\n",
    "\n",
    "folder <-\"/home/harish/PycharmProjects/Topic-Modeling/Data Extraction/dataset/yearbasis/\"\n",
    "summary(folder)\n",
    "corpus_name <- Corpus(DirSource(folder, recursive=TRUE),readerControl = list(reader=readPlain));"
   ]
  },
  {
   "cell_type": "code",
   "execution_count": 5,
   "metadata": {
    "collapsed": true
   },
   "outputs": [],
   "source": [
    "num_docs <- length(corpus_name)"
   ]
  },
  {
   "cell_type": "code",
   "execution_count": 6,
   "metadata": {},
   "outputs": [
    {
     "name": "stdout",
     "output_type": "stream",
     "text": [
      "[1] \"dimension before:\"\n",
      "<<DocumentTermMatrix (documents: 25, terms: 10807)>>\n",
      "Non-/sparse entries: 66603/203572\n",
      "Sparsity           : 75%\n",
      "Maximal term length: 26\n",
      "Weighting          : term frequency (tf)\n",
      "[1] \"dimension after:\"\n",
      "<<DocumentTermMatrix (documents: 25, terms: 12529)>>\n",
      "Non-/sparse entries: 50979/262246\n",
      "Sparsity           : 84%\n",
      "Maximal term length: 142\n",
      "Weighting          : term frequency (tf)\n"
     ]
    }
   ],
   "source": [
    "#---------------Data preprocessing:\n",
    "print(\"dimension before:\");\n",
    "print(DocumentTermMatrix(corpus_name));\n",
    "\n",
    "corpus_name<-tm_map(corpus_name,PlainTextDocument);\n",
    "corpus_name<-tm_map(corpus_name, content_transformer(tolower));\n",
    "corpus_name<-tm_map(corpus_name,removeWords,stopwords(\"english\"));\n",
    "corpus_name<-tm_map(corpus_name,removePunctuation);\n",
    "corpus_name<-tm_map(corpus_name,removeNumbers);\n",
    "corpus_name<-tm_map(corpus_name,stripWhitespace);\n",
    "\n",
    "words_to_remove_in_article<-c(\"-\",\"system\",\"reserve\",\"tthe\",\"rnthe\",\"participants\", \"continue\", \"open\",\"committee\", \"federal\", \"also\", \"meeting\", \"FOMC\", \"\\r\",\"\\t\",\"Present\", \"\\n\", 'year') #irrevalant words\n",
    "corpus_name<-tm_map(corpus_name, removeWords,words_to_remove_in_article); #removing irrevalant words in the article\n",
    "\n",
    "corpus_name<-tm_map(corpus_name, stemDocument, language=\"english\");\n",
    "\n",
    "print(\"dimension after:\");\n",
    "print(DocumentTermMatrix(corpus_name));"
   ]
  },
  {
   "cell_type": "code",
   "execution_count": 7,
   "metadata": {
    "collapsed": true
   },
   "outputs": [],
   "source": [
    "#todo: change the bounds, weighttfidf, "
   ]
  },
  {
   "cell_type": "code",
   "execution_count": 8,
   "metadata": {},
   "outputs": [
    {
     "name": "stdout",
     "output_type": "stream",
     "text": [
      "[1]   25 4752\n"
     ]
    },
    {
     "data": {
      "text/plain": [
       "<<DocumentTermMatrix (documents: 25, terms: 4752)>>\n",
       "Non-/sparse entries: 41750/77050\n",
       "Sparsity           : 65%\n",
       "Maximal term length: 56\n",
       "Weighting          : term frequency (tf)"
      ]
     },
     "metadata": {},
     "output_type": "display_data"
    }
   ],
   "source": [
    "#----------------------Text Analysis------\n",
    "\n",
    "##build tdm/dtm matrix\n",
    "tdm <- TermDocumentMatrix(corpus_name,control=list(wordLengths=c(4,Inf),bounds = list(global = c(2,Inf))))\n",
    "tdm_matrix <- as.matrix(tdm)\n",
    "##build a document/term matrix... words must have length 4\n",
    "dtm <- DocumentTermMatrix(corpus_name,control=list(wordLengths=c(4,Inf),bounds = list(global = c(2,Inf))))\n",
    "dtm_matrix <- as.matrix(dtm)\n",
    "print(dim(dtm_matrix))\n",
    "dtm"
   ]
  },
  {
   "cell_type": "code",
   "execution_count": 9,
   "metadata": {
    "scrolled": true
   },
   "outputs": [
    {
     "data": {
      "text/plain": [
       "<<DocumentTermMatrix (documents: 25, terms: 4752)>>\n",
       "Non-/sparse entries: 41750/77050\n",
       "Sparsity           : 65%\n",
       "Maximal term length: 56\n",
       "Weighting          : term frequency (tf)"
      ]
     },
     "metadata": {},
     "output_type": "display_data"
    }
   ],
   "source": [
    "dtms <- removeSparseTerms(dtm, 0.93)\n",
    "dtms"
   ]
  },
  {
   "cell_type": "code",
   "execution_count": 10,
   "metadata": {
    "scrolled": true
   },
   "outputs": [
    {
     "name": "stdout",
     "output_type": "stream",
     "text": [
      " [1] \"activ\"    \"balanc\"   \"bank\"     \"busi\"     \"chang\"    \"committe\"\n",
      " [7] \"condit\"   \"consum\"   \"continu\"  \"declin\"   \"econom\"   \"economi\" \n",
      "[13] \"expect\"   \"financi\"  \"forecast\" \"fund\"     \"growth\"   \"howev\"   \n",
      "[19] \"increas\"  \"indic\"    \"inflat\"   \"labor\"    \"level\"    \"like\"    \n",
      "[25] \"market\"   \"measur\"   \"moder\"    \"monetari\" \"month\"    \"note\"    \n",
      "[31] \"number\"   \"outlook\"  \"pace\"     \"percent\"  \"period\"   \"polici\"  \n",
      "[37] \"price\"    \"product\"  \"project\"  \"quarter\"  \"rang\"     \"rate\"    \n",
      "[43] \"real\"     \"remain\"   \"rise\"     \"risk\"     \"spend\"    \"time\"    \n",
      "[49] \"unemploy\"\n"
     ]
    }
   ],
   "source": [
    "m <- as.matrix(tdm)\n",
    "v <- sort(rowSums(m), decreasing=TRUE)\n",
    "d <- data.frame(word = names(v),freq=v)\n",
    "# print(head(d, 30))\n",
    "print(findFreqTerms(dtm,lowfreq = 2000))"
   ]
  },
  {
   "cell_type": "markdown",
   "metadata": {},
   "source": [
    "### Freq Visualization:"
   ]
  },
  {
   "cell_type": "code",
   "execution_count": 11,
   "metadata": {},
   "outputs": [
    {
     "data": {
      "image/png": "[encoded data removed]",
      "text/plain": [
       "Plot with title “Most frequent words”"
      ]
     },
     "metadata": {},
     "output_type": "display_data"
    }
   ],
   "source": [
    "  #bar plot:\n",
    "#   saveFileAs<- paste(\"wordFreq_barplot\", i, sep=\"_\")\n",
    "#   setwd('/home/harish/PycharmProjects/Topic-Modeling/pictures')\n",
    "#   png(filename = saveFileAs)\n",
    "  barplot(d[1:20,]$freq, las = 2, names.arg = d[1:20,]$word,\n",
    "          col =\"lightblue\", main =\"Most frequent words\",\n",
    "          ylab = \"Word frequencies\")\n",
    "#   dev.off()\n",
    "\n"
   ]
  },
  {
   "cell_type": "code",
   "execution_count": 12,
   "metadata": {
    "collapsed": true
   },
   "outputs": [],
   "source": [
    "#   saveFileAs<- paste(\"wordcloud\", i, sep=\"_\")\n",
    "#   png(filename = saveFileAs)\n",
    "#   wordcloud(names(v), v, max.words=100, rot.per=0.15, random.order=F,colors=brewer.pal(8, \"Dark2\"))\n",
    "#   dev.off()"
   ]
  },
  {
   "cell_type": "code",
   "execution_count": 13,
   "metadata": {},
   "outputs": [
    {
     "data": {
      "text/html": [
       "<table>\n",
       "<thead><tr><th></th><th scope=col>word</th><th scope=col>freq</th></tr></thead>\n",
       "<tbody>\n",
       "\t<tr><th scope=row>inflat</th><td>inflat  </td><td>8811    </td></tr>\n",
       "\t<tr><th scope=row>econom</th><td>econom  </td><td>7660    </td></tr>\n",
       "\t<tr><th scope=row>price</th><td>price   </td><td>7374    </td></tr>\n",
       "\t<tr><th scope=row>growth</th><td>growth  </td><td>6241    </td></tr>\n",
       "\t<tr><th scope=row>polici</th><td>polici  </td><td>5795    </td></tr>\n",
       "\t<tr><th scope=row>increas</th><td>increas </td><td>5693    </td></tr>\n",
       "\t<tr><th scope=row>project</th><td>project </td><td>5516    </td></tr>\n",
       "\t<tr><th scope=row>expect</th><td>expect  </td><td>4670    </td></tr>\n",
       "\t<tr><th scope=row>percent</th><td>percent </td><td>4658    </td></tr>\n",
       "\t<tr><th scope=row>quarter</th><td>quarter </td><td>4508    </td></tr>\n",
       "\t<tr><th scope=row>remain</th><td>remain  </td><td>4298    </td></tr>\n",
       "\t<tr><th scope=row>continu</th><td>continu </td><td>4165    </td></tr>\n",
       "\t<tr><th scope=row>declin</th><td>declin  </td><td>3667    </td></tr>\n",
       "\t<tr><th scope=row>level</th><td>level   </td><td>3588    </td></tr>\n",
       "\t<tr><th scope=row>condit</th><td>condit  </td><td>3586    </td></tr>\n",
       "\t<tr><th scope=row>period</th><td>period  </td><td>3553    </td></tr>\n",
       "\t<tr><th scope=row>rang</th><td>rang    </td><td>3422    </td></tr>\n",
       "\t<tr><th scope=row>consum</th><td>consum  </td><td>3366    </td></tr>\n",
       "\t<tr><th scope=row>risk</th><td>risk    </td><td>3191    </td></tr>\n",
       "\t<tr><th scope=row>financi</th><td>financi </td><td>3176    </td></tr>\n",
       "\t<tr><th scope=row>fund</th><td>fund    </td><td>3174    </td></tr>\n",
       "\t<tr><th scope=row>month</th><td>month   </td><td>3066    </td></tr>\n",
       "\t<tr><th scope=row>activ</th><td>activ   </td><td>3063    </td></tr>\n",
       "\t<tr><th scope=row>monetari</th><td>monetari</td><td>3008    </td></tr>\n",
       "\t<tr><th scope=row>busi</th><td>busi    </td><td>2994    </td></tr>\n",
       "\t<tr><th scope=row>labor</th><td>labor   </td><td>2981    </td></tr>\n",
       "\t<tr><th scope=row>indic</th><td>indic   </td><td>2978    </td></tr>\n",
       "\t<tr><th scope=row>pace</th><td>pace    </td><td>2893    </td></tr>\n",
       "\t<tr><th scope=row>spend</th><td>spend   </td><td>2827    </td></tr>\n",
       "\t<tr><th scope=row>like</th><td>like    </td><td>2753    </td></tr>\n",
       "</tbody>\n",
       "</table>\n"
      ],
      "text/latex": [
       "\\begin{tabular}{r|ll}\n",
       "  & word & freq\\\\\n",
       "\\hline\n",
       "\tinflat & inflat   & 8811    \\\\\n",
       "\teconom & econom   & 7660    \\\\\n",
       "\tprice & price    & 7374    \\\\\n",
       "\tgrowth & growth   & 6241    \\\\\n",
       "\tpolici & polici   & 5795    \\\\\n",
       "\tincreas & increas  & 5693    \\\\\n",
       "\tproject & project  & 5516    \\\\\n",
       "\texpect & expect   & 4670    \\\\\n",
       "\tpercent & percent  & 4658    \\\\\n",
       "\tquarter & quarter  & 4508    \\\\\n",
       "\tremain & remain   & 4298    \\\\\n",
       "\tcontinu & continu  & 4165    \\\\\n",
       "\tdeclin & declin   & 3667    \\\\\n",
       "\tlevel & level    & 3588    \\\\\n",
       "\tcondit & condit   & 3586    \\\\\n",
       "\tperiod & period   & 3553    \\\\\n",
       "\trang & rang     & 3422    \\\\\n",
       "\tconsum & consum   & 3366    \\\\\n",
       "\trisk & risk     & 3191    \\\\\n",
       "\tfinanci & financi  & 3176    \\\\\n",
       "\tfund & fund     & 3174    \\\\\n",
       "\tmonth & month    & 3066    \\\\\n",
       "\tactiv & activ    & 3063    \\\\\n",
       "\tmonetari & monetari & 3008    \\\\\n",
       "\tbusi & busi     & 2994    \\\\\n",
       "\tlabor & labor    & 2981    \\\\\n",
       "\tindic & indic    & 2978    \\\\\n",
       "\tpace & pace     & 2893    \\\\\n",
       "\tspend & spend    & 2827    \\\\\n",
       "\tlike & like     & 2753    \\\\\n",
       "\\end{tabular}\n"
      ],
      "text/markdown": [
       "\n",
       "| <!--/--> | word | freq | \n",
       "|---|---|---|---|---|---|---|---|---|---|---|---|---|---|---|---|---|---|---|---|---|---|---|---|---|---|---|---|---|---|\n",
       "| inflat | inflat   | 8811     | \n",
       "| econom | econom   | 7660     | \n",
       "| price | price    | 7374     | \n",
       "| growth | growth   | 6241     | \n",
       "| polici | polici   | 5795     | \n",
       "| increas | increas  | 5693     | \n",
       "| project | project  | 5516     | \n",
       "| expect | expect   | 4670     | \n",
       "| percent | percent  | 4658     | \n",
       "| quarter | quarter  | 4508     | \n",
       "| remain | remain   | 4298     | \n",
       "| continu | continu  | 4165     | \n",
       "| declin | declin   | 3667     | \n",
       "| level | level    | 3588     | \n",
       "| condit | condit   | 3586     | \n",
       "| period | period   | 3553     | \n",
       "| rang | rang     | 3422     | \n",
       "| consum | consum   | 3366     | \n",
       "| risk | risk     | 3191     | \n",
       "| financi | financi  | 3176     | \n",
       "| fund | fund     | 3174     | \n",
       "| month | month    | 3066     | \n",
       "| activ | activ    | 3063     | \n",
       "| monetari | monetari | 3008     | \n",
       "| busi | busi     | 2994     | \n",
       "| labor | labor    | 2981     | \n",
       "| indic | indic    | 2978     | \n",
       "| pace | pace     | 2893     | \n",
       "| spend | spend    | 2827     | \n",
       "| like | like     | 2753     | \n",
       "\n",
       "\n"
      ],
      "text/plain": [
       "         word     freq\n",
       "inflat   inflat   8811\n",
       "econom   econom   7660\n",
       "price    price    7374\n",
       "growth   growth   6241\n",
       "polici   polici   5795\n",
       "increas  increas  5693\n",
       "project  project  5516\n",
       "expect   expect   4670\n",
       "percent  percent  4658\n",
       "quarter  quarter  4508\n",
       "remain   remain   4298\n",
       "continu  continu  4165\n",
       "declin   declin   3667\n",
       "level    level    3588\n",
       "condit   condit   3586\n",
       "period   period   3553\n",
       "rang     rang     3422\n",
       "consum   consum   3366\n",
       "risk     risk     3191\n",
       "financi  financi  3176\n",
       "fund     fund     3174\n",
       "month    month    3066\n",
       "activ    activ    3063\n",
       "monetari monetari 3008\n",
       "busi     busi     2994\n",
       "labor    labor    2981\n",
       "indic    indic    2978\n",
       "pace     pace     2893\n",
       "spend    spend    2827\n",
       "like     like     2753"
      ]
     },
     "metadata": {},
     "output_type": "display_data"
    }
   ],
   "source": [
    "head(d,30)"
   ]
  },
  {
   "cell_type": "markdown",
   "metadata": {},
   "source": [
    "### Word Importance : TF-IDF"
   ]
  },
  {
   "cell_type": "code",
   "execution_count": null,
   "metadata": {
    "collapsed": true
   },
   "outputs": [],
   "source": []
  },
  {
   "cell_type": "code",
   "execution_count": 14,
   "metadata": {},
   "outputs": [
    {
     "data": {
      "text/plain": [
       "<<DocumentTermMatrix (documents: 25, terms: 4752)>>\n",
       "Non-/sparse entries: 29025/89775\n",
       "Sparsity           : 76%\n",
       "Maximal term length: 56\n",
       "Weighting          : term frequency - inverse document frequency (normalized) (tf-idf)"
      ]
     },
     "metadata": {},
     "output_type": "display_data"
    }
   ],
   "source": [
    "dtm_tfidf <- weightTfIdf(dtms) \n",
    "dtm_tfidf"
   ]
  },
  {
   "cell_type": "markdown",
   "metadata": {},
   "source": [
    "### Clustering:"
   ]
  },
  {
   "cell_type": "code",
   "execution_count": 15,
   "metadata": {},
   "outputs": [
    {
     "data": {
      "text/plain": [
       "<<DocumentTermMatrix (documents: 25, terms: 4752)>>\n",
       "Non-/sparse entries: 29025/89775\n",
       "Sparsity           : 76%\n",
       "Maximal term length: 56\n",
       "Weighting          : term frequency - inverse document frequency (normalized) (tf-idf)"
      ]
     },
     "metadata": {},
     "output_type": "display_data"
    },
    {
     "data": {
      "text/html": [
       "<ol class=list-inline>\n",
       "\t<li>25</li>\n",
       "\t<li>4243</li>\n",
       "</ol>\n"
      ],
      "text/latex": [
       "\\begin{enumerate*}\n",
       "\\item 25\n",
       "\\item 4243\n",
       "\\end{enumerate*}\n"
      ],
      "text/markdown": [
       "1. 25\n",
       "2. 4243\n",
       "\n",
       "\n"
      ],
      "text/plain": [
       "[1]   25 4243"
      ]
     },
     "metadata": {},
     "output_type": "display_data"
    }
   ],
   "source": [
    "matDTM<-as.matrix(dtms)\n",
    "tfidf<-weightTfIdf(dtms)\n",
    "tfidf# how does the sparsity increases compared to dtms?\n",
    "sparse<-removeSparseTerms(tfidf,0.995)\n",
    "s<-as.matrix(sparse); dim(s)"
   ]
  },
  {
   "cell_type": "markdown",
   "metadata": {},
   "source": [
    "##### Optimal clustmer number"
   ]
  },
  {
   "cell_type": "code",
   "execution_count": 16,
   "metadata": {},
   "outputs": [
    {
     "data": {
      "text/html": [
       "<dl class=dl-horizontal>\n",
       "\t<dt>Number_clusters</dt>\n",
       "\t\t<dd>20</dd>\n",
       "\t<dt>Value_Index</dt>\n",
       "\t\t<dd>0.6483</dd>\n",
       "</dl>\n"
      ],
      "text/latex": [
       "\\begin{description*}\n",
       "\\item[Number\\textbackslash{}\\_clusters] 20\n",
       "\\item[Value\\textbackslash{}\\_Index] 0.6483\n",
       "\\end{description*}\n"
      ],
      "text/markdown": [
       "Number_clusters\n",
       ":   20Value_Index\n",
       ":   0.6483\n",
       "\n"
      ],
      "text/plain": [
       "Number_clusters     Value_Index \n",
       "        20.0000          0.6483 "
      ]
     },
     "metadata": {},
     "output_type": "display_data"
    }
   ],
   "source": [
    "#clustering\n",
    "set.seed(123)\n",
    "res<-NbClust(data=s, min.nc = 2, max.nc = 20, distance=\"euclidean\", method=\"kmeans\", index=\"silhouette\")\n",
    "f<-fviz_nbclust(s,kmeans,method=\"silhouette\")\n",
    "res$Best.nc\n",
    "#saving\n",
    "# png('optimalCluster2.png')\n",
    "# f\n",
    "# dev.off()\n",
    "# res\n"
   ]
  },
  {
   "cell_type": "markdown",
   "metadata": {},
   "source": [
    "## NOTE: There are two optimum which are closer, check out  cluster number = 6"
   ]
  },
  {
   "cell_type": "code",
   "execution_count": 17,
   "metadata": {},
   "outputs": [
    {
     "data": {},
     "metadata": {},
     "output_type": "display_data"
    },
    {
     "data": {
      "image/png": "[encoded data removed]",
      "text/plain": [
       "plot without title"
      ]
     },
     "metadata": {},
     "output_type": "display_data"
    }
   ],
   "source": [
    "f+geom_vline(xintercept = 6, linetype = 2)+labs(subtitle = \"Silhouette method\")"
   ]
  },
  {
   "cell_type": "code",
   "execution_count": 18,
   "metadata": {},
   "outputs": [
    {
     "data": {},
     "metadata": {},
     "output_type": "display_data"
    },
    {
     "data": {
      "text/html": [
       "<strong>png:</strong> 2"
      ],
      "text/latex": [
       "\\textbf{png:} 2"
      ],
      "text/markdown": [
       "**png:** 2"
      ],
      "text/plain": [
       "png \n",
       "  2 "
      ]
     },
     "metadata": {},
     "output_type": "display_data"
    }
   ],
   "source": [
    "png(\"elbow cluster.png\")\n",
    "fviz_nbclust(s, kmeans, method = \"wss\") +\n",
    "geom_vline(xintercept = 6, linetype = 2)+\n",
    "labs(subtitle = \"Elbow method\")\n",
    "dev.off()"
   ]
  },
  {
   "cell_type": "code",
   "execution_count": 19,
   "metadata": {},
   "outputs": [
    {
     "data": {},
     "metadata": {},
     "output_type": "display_data"
    },
    {
     "data": {
      "text/html": [
       "<strong>png:</strong> 2"
      ],
      "text/latex": [
       "\\textbf{png:} 2"
      ],
      "text/markdown": [
       "**png:** 2"
      ],
      "text/plain": [
       "png \n",
       "  2 "
      ]
     },
     "metadata": {},
     "output_type": "display_data"
    }
   ],
   "source": [
    "png(\"Silhouette.png\")\n",
    "fviz_nbclust(s, kmeans, method = \"silhouette\")+labs(subtitle = \"Silhouette method\")\n",
    "# plot(prcomp(dtms)$x,col=cl_3$cluster)\n",
    "dev.off()"
   ]
  },
  {
   "cell_type": "markdown",
   "metadata": {},
   "source": [
    "# Kmeans"
   ]
  },
  {
   "cell_type": "markdown",
   "metadata": {},
   "source": [
    "prcomp: \n",
    "\n",
    "Performs a principal components analysis on the given data matrix and returns the results as an object of class prcomp.\n",
    "\n",
    "The calculation is done by a singular value decomposition of the (centered and possibly scaled) data matrix, not by using eigen on the covariance matrix. This is generally the preferred method for numerical accuracy."
   ]
  },
  {
   "cell_type": "code",
   "execution_count": 20,
   "metadata": {},
   "outputs": [
    {
     "data": {
      "text/plain": [
       "\n",
       " 1  2  3 \n",
       " 6 10  9 "
      ]
     },
     "metadata": {},
     "output_type": "display_data"
    },
    {
     "data": {
      "text/html": [
       "<strong>png:</strong> 2"
      ],
      "text/latex": [
       "\\textbf{png:} 2"
      ],
      "text/markdown": [
       "**png:** 2"
      ],
      "text/plain": [
       "png \n",
       "  2 "
      ]
     },
     "metadata": {},
     "output_type": "display_data"
    }
   ],
   "source": [
    "#--------------------------------kmeans------------------------\n",
    "set.seed(123)\n",
    "# clus<-kmeans(s,3)\n",
    "\n",
    "#wordcloud\n",
    "m <- as.matrix(tfidf)\n",
    "rownames(m) <- 1:nrow(m)\n",
    "\n",
    "norm_eucl<- function(m)m/apply(m,MARGIN=1, FUN=function(x)sum(x^2)^.5)#Normalization first\n",
    "m_norm<-norm_eucl(m)\n",
    "\n",
    "cl_3<-kmeans(m_norm,3)\n",
    "table(cl_3$cluster)\n",
    "png(\"kmeansCluster_3.png\")\n",
    "plot(prcomp(m_norm)$x, col=cl_3$cl)\n",
    "dev.off()"
   ]
  },
  {
   "cell_type": "code",
   "execution_count": 21,
   "metadata": {},
   "outputs": [
    {
     "data": {
      "text/html": [
       "13.7228141421093"
      ],
      "text/latex": [
       "13.7228141421093"
      ],
      "text/markdown": [
       "13.7228141421093"
      ],
      "text/plain": [
       "[1] 13.72281"
      ]
     },
     "metadata": {},
     "output_type": "display_data"
    }
   ],
   "source": [
    "cl_3$tot.withinss"
   ]
  },
  {
   "cell_type": "markdown",
   "metadata": {},
   "source": [
    "### Three clusters: *however we have topics more than 4?* Lets check with 6"
   ]
  },
  {
   "cell_type": "code",
   "execution_count": 22,
   "metadata": {},
   "outputs": [
    {
     "data": {
      "text/plain": [
       "\n",
       "1 2 3 4 5 6 \n",
       "3 4 6 5 3 4 "
      ]
     },
     "metadata": {},
     "output_type": "display_data"
    },
    {
     "data": {
      "text/html": [
       "<strong>png:</strong> 2"
      ],
      "text/latex": [
       "\\textbf{png:} 2"
      ],
      "text/markdown": [
       "**png:** 2"
      ],
      "text/plain": [
       "png \n",
       "  2 "
      ]
     },
     "metadata": {},
     "output_type": "display_data"
    }
   ],
   "source": [
    "#cluster numbers = 6\n",
    "m_norm<-norm_eucl(m)\n",
    "cl_6<-kmeans(m_norm,6)\n",
    "table(cl_6$cluster)\n",
    "png(\"kmeansCluster_6.png\")\n",
    "plot(prcomp(m_norm)$x, col=cl_6$cl)\n",
    "dev.off()"
   ]
  },
  {
   "cell_type": "markdown",
   "metadata": {},
   "source": [
    "### Which one to choose?\n",
    "\n",
    "There are 3 SSE- based measures that we consider: total withinSSE, betweenSSE and total SSE.\n",
    "The actual values of those measure are difficult to interpret. We will be looking at the ratio\n",
    "withinSSE/totalSSE. Total withinSSE shows how coherent (tight) are the clusters. The betweenSSE\n",
    "shows how well the clusters are separated. The total SSE is the sum. A good clustering has tight\n",
    "clusters that are well separated. So, we would like ratio withinSSE/totalSSE to be small. As we\n",
    "experiment with different representations, we should compare that ratio to see what representation\n",
    "gives better clustering"
   ]
  },
  {
   "cell_type": "code",
   "execution_count": 23,
   "metadata": {},
   "outputs": [
    {
     "data": {
      "text/html": [
       "30.7479252276099"
      ],
      "text/latex": [
       "30.7479252276099"
      ],
      "text/markdown": [
       "30.7479252276099"
      ],
      "text/plain": [
       "[1] 30.74793"
      ]
     },
     "metadata": {},
     "output_type": "display_data"
    },
    {
     "data": {
      "text/html": [
       "46.3386018552902"
      ],
      "text/latex": [
       "46.3386018552902"
      ],
      "text/markdown": [
       "46.3386018552902"
      ],
      "text/plain": [
       "[1] 46.3386"
      ]
     },
     "metadata": {},
     "output_type": "display_data"
    }
   ],
   "source": [
    "SSE_3<-100-(cl_3$tot.withinss/cl_3$totss)*100\n",
    "SSE_3\n",
    "SSE_6<-100-(cl_6$tot.withinss/cl_6$totss)*100\n",
    "SSE_6"
   ]
  },
  {
   "cell_type": "markdown",
   "metadata": {},
   "source": [
    "## LDA:"
   ]
  },
  {
   "cell_type": "code",
   "execution_count": 24,
   "metadata": {
    "collapsed": true
   },
   "outputs": [],
   "source": [
    "# svs = sort.list(abs(svd(dtms)$v[,4]), decreasing = TRUE)\n",
    "# dtms$dimnames$Terms[head(svs, 6)]"
   ]
  },
  {
   "cell_type": "code",
   "execution_count": 25,
   "metadata": {
    "collapsed": true
   },
   "outputs": [],
   "source": [
    "\n",
    "##return top words by concept\n",
    "\n",
    "##first create function to return top words; require dtms\n",
    "concept<-function(num){ \n",
    "  sv<-sort.list((svd(dtms))$v[,num],decreasing = FALSE)\n",
    "  # print(sv)\n",
    "  # print(dtms$dimnames)\n",
    "  dm<-dtms$dimnames$Terms[head(sv,5)] \n",
    "  return(dm)\n",
    "}"
   ]
  },
  {
   "cell_type": "code",
   "execution_count": 26,
   "metadata": {
    "collapsed": true
   },
   "outputs": [],
   "source": [
    "##how many words?\n",
    "num <- num_docs\n",
    "i <- 1:num\n",
    "val <- sapply(i, concept)"
   ]
  },
  {
   "cell_type": "code",
   "execution_count": 27,
   "metadata": {},
   "outputs": [
    {
     "data": {
      "text/html": [
       "<table>\n",
       "<tbody>\n",
       "\t<tr><td>inflat     </td><td>growth     </td><td>committe   </td><td>inflat     </td><td>pace       </td><td>chang      </td><td>increas    </td><td>purchas    </td><td>purchas    </td><td>market     </td><td>⋯          </td><td>rate       </td><td>market     </td><td>polici     </td><td>action     </td><td>inventori  </td><td>increas    </td><td>expans     </td><td>remain     </td><td>substanti  </td><td>busi       </td></tr>\n",
       "\t<tr><td>econom     </td><td>price      </td><td>labor      </td><td>price      </td><td>labor      </td><td>project    </td><td>growth     </td><td>financi    </td><td>labor      </td><td>demand     </td><td>⋯          </td><td>term       </td><td>domest     </td><td>increas    </td><td>lower      </td><td>price      </td><td>firm       </td><td>slow       </td><td>sale       </td><td>relat      </td><td>sector     </td></tr>\n",
       "\t<tr><td>price      </td><td>quarter    </td><td>polici     </td><td>energi     </td><td>purchas    </td><td>uncertainti</td><td>pace       </td><td>asset      </td><td>product    </td><td>labor      </td><td>⋯          </td><td>commerci   </td><td>import     </td><td>continu    </td><td>indic      </td><td>continu    </td><td>activ      </td><td>gain       </td><td>inflat     </td><td>risk       </td><td>anticip    </td></tr>\n",
       "\t<tr><td>project    </td><td>expans     </td><td>rang       </td><td>core       </td><td>inflat     </td><td>pace       </td><td>price      </td><td>hous       </td><td>pace       </td><td>rise       </td><td>⋯          </td><td>interest   </td><td>improv     </td><td>larg       </td><td>fund       </td><td>activ      </td><td>action     </td><td>treasuri   </td><td>hurrican   </td><td>overal     </td><td>domest     </td></tr>\n",
       "\t<tr><td>polici     </td><td>busi       </td><td>percent    </td><td>expect     </td><td>price      </td><td>accommod   </td><td>moder      </td><td>risk       </td><td>rise       </td><td>price      </td><td>⋯          </td><td>accommod   </td><td>chang      </td><td>inventori  </td><td>domest     </td><td>chang      </td><td>percent    </td><td>consist    </td><td>time       </td><td>effect     </td><td>rnrn       </td></tr>\n",
       "</tbody>\n",
       "</table>\n"
      ],
      "text/latex": [
       "\\begin{tabular}{lllllllllllllllllllllllll}\n",
       "\t inflat      & growth      & committe    & inflat      & pace        & chang       & increas     & purchas     & purchas     & market      & ⋯           & rate        & market      & polici      & action      & inventori   & increas     & expans      & remain      & substanti   & busi       \\\\\n",
       "\t econom      & price       & labor       & price       & labor       & project     & growth      & financi     & labor       & demand      & ⋯           & term        & domest      & increas     & lower       & price       & firm        & slow        & sale        & relat       & sector     \\\\\n",
       "\t price       & quarter     & polici      & energi      & purchas     & uncertainti & pace        & asset       & product     & labor       & ⋯           & commerci    & import      & continu     & indic       & continu     & activ       & gain        & inflat      & risk        & anticip    \\\\\n",
       "\t project     & expans      & rang        & core        & inflat      & pace        & price       & hous        & pace        & rise        & ⋯           & interest    & improv      & larg        & fund        & activ       & action      & treasuri    & hurrican    & overal      & domest     \\\\\n",
       "\t polici      & busi        & percent     & expect      & price       & accommod    & moder       & risk        & rise        & price       & ⋯           & accommod    & chang       & inventori   & domest      & chang       & percent     & consist     & time        & effect      & rnrn       \\\\\n",
       "\\end{tabular}\n"
      ],
      "text/markdown": [
       "\n",
       "| inflat      | growth      | committe    | inflat      | pace        | chang       | increas     | purchas     | purchas     | market      | ⋯           | rate        | market      | polici      | action      | inventori   | increas     | expans      | remain      | substanti   | busi        | \n",
       "| econom      | price       | labor       | price       | labor       | project     | growth      | financi     | labor       | demand      | ⋯           | term        | domest      | increas     | lower       | price       | firm        | slow        | sale        | relat       | sector      | \n",
       "| price       | quarter     | polici      | energi      | purchas     | uncertainti | pace        | asset       | product     | labor       | ⋯           | commerci    | import      | continu     | indic       | continu     | activ       | gain        | inflat      | risk        | anticip     | \n",
       "| project     | expans      | rang        | core        | inflat      | pace        | price       | hous        | pace        | rise        | ⋯           | interest    | improv      | larg        | fund        | activ       | action      | treasuri    | hurrican    | overal      | domest      | \n",
       "| polici      | busi        | percent     | expect      | price       | accommod    | moder       | risk        | rise        | price       | ⋯           | accommod    | chang       | inventori   | domest      | chang       | percent     | consist     | time        | effect      | rnrn        | \n",
       "\n",
       "\n"
      ],
      "text/plain": [
       "     [,1]    [,2]    [,3]     [,4]   [,5]    [,6]        [,7]    [,8]   \n",
       "[1,] inflat  growth  committe inflat pace    chang       increas purchas\n",
       "[2,] econom  price   labor    price  labor   project     growth  financi\n",
       "[3,] price   quarter polici   energi purchas uncertainti pace    asset  \n",
       "[4,] project expans  rang     core   inflat  pace        price   hous   \n",
       "[5,] polici  busi    percent  expect price   accommod    moder   risk   \n",
       "     [,9]    [,10]  [,11] [,12]    [,13]  [,14]     [,15]  [,16]     [,17]  \n",
       "[1,] purchas market ⋯     rate     market polici    action inventori increas\n",
       "[2,] labor   demand ⋯     term     domest increas   lower  price     firm   \n",
       "[3,] product labor  ⋯     commerci import continu   indic  continu   activ  \n",
       "[4,] pace    rise   ⋯     interest improv larg      fund   activ     action \n",
       "[5,] rise    price  ⋯     accommod chang  inventori domest chang     percent\n",
       "     [,18]    [,19]    [,20]     [,21]  \n",
       "[1,] expans   remain   substanti busi   \n",
       "[2,] slow     sale     relat     sector \n",
       "[3,] gain     inflat   risk      anticip\n",
       "[4,] treasuri hurrican overal    domest \n",
       "[5,] consist  time     effect    rnrn   "
      ]
     },
     "metadata": {},
     "output_type": "display_data"
    }
   ],
   "source": [
    "val"
   ]
  },
  {
   "cell_type": "code",
   "execution_count": 28,
   "metadata": {
    "collapsed": true
   },
   "outputs": [],
   "source": [
    "# library(ggplot2)\n",
    "# ii <- 2000:2011\n",
    "# ss <- rnorm(12,0,1)\n",
    "# pm <- data.frame(ii,ss)\n",
    "# tmpplot <- ggplot(pm, aes(x = ii, y = ss))\n",
    "# plot <- tmpplot + geom_line() + scale_x_continuous(breaks=seq(2000,2011, 0.5))\n",
    "# plot "
   ]
  },
  {
   "cell_type": "code",
   "execution_count": 29,
   "metadata": {
    "collapsed": true
   },
   "outputs": [],
   "source": [
    "#Set parameters for Gibbs sampling\n",
    "burnin = 4000\n",
    "iter = 2000\n",
    "thin = 500\n",
    "seed = list(2003,5,63,100001,765)\n",
    "nstart = 5\n",
    "best = TRUE\n",
    "\n",
    "#Number of topics\n",
    "k = 3"
   ]
  },
  {
   "cell_type": "code",
   "execution_count": 30,
   "metadata": {
    "collapsed": true
   },
   "outputs": [],
   "source": [
    "# write.table(val,file=paste(\"/home/harish/PycharmProjects/Topic-Modeling/val.csv\"), append = T)\n",
    "# ldaGibbs5@gamma"
   ]
  },
  {
   "cell_type": "code",
   "execution_count": 31,
   "metadata": {
    "collapsed": true
   },
   "outputs": [],
   "source": [
    "# ##how many words?\n",
    "# num <- 5\n",
    "# i <- 1:num\n",
    "# sapply(i, concept)\n",
    "# # https://stackoverflow.com/questions/14875493/lda-with-topicmodels-how-can-i-see-which-topics-different-documents-belong-to\n"
   ]
  },
  {
   "cell_type": "code",
   "execution_count": 32,
   "metadata": {
    "collapsed": true
   },
   "outputs": [],
   "source": [
    "# k=5\n",
    "# ldaGibbs5 <-LDA(dtms, k, method = \"Gibbs\") \n",
    "# #docs to topics \n",
    "# ldaGibbs5.topics <- as.matrix(topics(ldaGibbs5))\n",
    "# #get probability of each topic in each doc\n",
    "# topicProbabilities <- as.data.frame(ldaGibbs5@gamma)"
   ]
  },
  {
   "cell_type": "code",
   "execution_count": 33,
   "metadata": {
    "collapsed": true
   },
   "outputs": [],
   "source": [
    "# topicProbabilities\n",
    "# nrow(ldaGibbs5@gamma)"
   ]
  },
  {
   "cell_type": "code",
   "execution_count": 34,
   "metadata": {
    "collapsed": true
   },
   "outputs": [],
   "source": [
    "# vector <- NULL\n",
    "# for(i in 1:nrow(ldaGibbs5@gamma)) {\n",
    "#   vector <- c(vector, ldaGibbs5@gamma[i,])\n",
    "# }\n",
    "\n",
    "\n",
    "# Concepts <- rep(c(\"Concept 1\",\"Concept 2\",\"Concept 3\", \"Concept 4\",\"Concept 5\"),times=102)#why 80?\n",
    "# TimeByDocs <- as.numeric(rep(1:102,each=5))\n",
    "# chartdata <- data.frame(Concepts,TimeByDocs,vector)\n",
    "# myplot <- ggplot(chartdata, aes(x=TimeByDocs,y=vector,fill=Concepts)) + geom_area()\n"
   ]
  },
  {
   "cell_type": "code",
   "execution_count": 35,
   "metadata": {
    "collapsed": true
   },
   "outputs": [],
   "source": [
    "# ggsave(filename=\"myPlot.png\", plot=myplot)"
   ]
  },
  {
   "cell_type": "code",
   "execution_count": 36,
   "metadata": {
    "collapsed": true
   },
   "outputs": [],
   "source": [
    "# l<-c()\n",
    "# i <- 0\n",
    "# for (j in 1993:2005){\n",
    "#    l[i] <- j\n",
    "#     i <- i + 1\n",
    "# }"
   ]
  },
  {
   "cell_type": "code",
   "execution_count": 38,
   "metadata": {},
   "outputs": [
    {
     "name": "stderr",
     "output_type": "stream",
     "text": [
      "Saving 6.67 x 6.67 in image\n"
     ]
    }
   ],
   "source": [
    "##how many words?\n",
    "# for (k in 2:5){\n",
    "k = 4\n",
    "#     num <- num_docs\n",
    "#     i <- 1:num\n",
    "#     val <- sapply(i, concept)\n",
    "    # https://stackoverflow.com/questions/14875493/lda-with-topicmodels-how-can-i-see-which-topics-different-documents-belong-to\n",
    "    \n",
    "\n",
    "    ldaGibbs_k <-LDA(dtms, k, method = \"Gibbs\")\n",
    "    #docs to topics \n",
    "#     ldaGibbs_k.topics <- as.matrix(topics(ldaGibbs_k))\n",
    "#     #get probability of each topic in each doc\n",
    "#     topicProbabilities <- as.data.frame(ldaGibbs_k@gamma)\n",
    "# write.table(val,file=paste(\"/home/harish/PycharmProjects/Topic-Modeling/val.csv\"), append = T)\n",
    "\n",
    "    vector <- NULL\n",
    "    for(i in 1:nrow(ldaGibbs_k@gamma)) {\n",
    "      vector <- c(vector, ldaGibbs_k@gamma[i,])\n",
    "    }\n",
    "\n",
    "\n",
    "    Concepts <- rep(c(\"Concept 1\",\"Concept 2\",\"Concept 3\",\"Concept 4\"),times=num_docs)\n",
    "#     TimeByDocs <- as.numeric(rep(c(\"1993\",\"1994\",\"1995\",\"1996\",\"1997\",\"1998\",\"1999\",\"2000\",\"2001\",\"2002\",\"2003\",\"2004\",\n",
    "#                                    \"2005\",\"2006\",\"2007\",\"2008\",\"2009\",\"2010\",\"2011\",\"2012\",\"2013\",\"2014\",\"2015\",\"2016\",\"2017\"),each=k))\n",
    "    \n",
    "TimeByDocs <- as.numeric(rep(1993:2017,each=k))\n",
    "chartdata <- data.frame(Concepts,TimeByDocs,vector)\n",
    "    myplot <- ggplot(chartdata, aes(x=TimeByDocs,y=vector,fill=Concepts)) + geom_area()\n",
    "    plotname <- paste(k,\"png\", sep=\".\");\n",
    "    ggsave(filename=plotname, plot=myplot)\n",
    "    \n",
    "# }"
   ]
  },
  {
   "cell_type": "code",
   "execution_count": 39,
   "metadata": {},
   "outputs": [
    {
     "data": {},
     "metadata": {},
     "output_type": "display_data"
    },
    {
     "data": {
      "image/png": "[encoded data removed]",
      "text/plain": [
       "plot without title"
      ]
     },
     "metadata": {},
     "output_type": "display_data"
    }
   ],
   "source": [
    "ii <- 1993:2017\n",
    "\n",
    "TimeByDocs <- as.numeric(rep(1993:2017,each=k))\n",
    "plot <- ggplot(chartdata, aes(x=TimeByDocs,y=vector,fill=Concepts)) + geom_area() + scale_x_continuous(breaks=seq(1993,2017, 2))\n",
    "plot "
   ]
  },
  {
   "cell_type": "code",
   "execution_count": 40,
   "metadata": {
    "collapsed": true
   },
   "outputs": [],
   "source": [
    "# Concepts <- rep(c(\"Concept 1\",\"Concept 2\",\"Concept 3\", \"Concept 4\",\"Concept 5\"),times=102)#why 80?\n",
    "#     TimeByDocs <- as.numeric(rep(c(\"1993\",\"1994\",\"1995\",\"1996\",\"1997\",\"1998\",\"1999\",\n",
    "#                                    \"2000\",\"2001\",\"2002\",\"2003\",\"2004\",\"2005\"),each=k))\n",
    "#     chartdata <- data.frame(Concepts,TimeByDocs,vector)\n",
    "#     myplot <- ggplot(chartdata, aes(x=TimeByDocs,y=vector,fill=Concepts)) + geom_area()\n",
    "# myplot"
   ]
  },
  {
   "cell_type": "code",
   "execution_count": 41,
   "metadata": {},
   "outputs": [
    {
     "ename": "ERROR",
     "evalue": "Error in is.data.frame(x): object 'topicProbabilities' not found\n",
     "output_type": "error",
     "traceback": [
      "Error in is.data.frame(x): object 'topicProbabilities' not found\nTraceback:\n",
      "1. write.table(topicProbabilities, file = paste(\"/home/harish/PycharmProjects/Topic-Modeling/val.csv\"), \n .     append = T)",
      "2. is.data.frame(x)"
     ]
    }
   ],
   "source": [
    "\n",
    "write.table(topicProbabilities,file=paste(\"/home/harish/PycharmProjects/Topic-Modeling/val.csv\"), append = T)"
   ]
  },
  {
   "cell_type": "code",
   "execution_count": null,
   "metadata": {},
   "outputs": [],
   "source": [
    "ldaGibbs_k@gamma[1:10,]\n"
   ]
  },
  {
   "cell_type": "code",
   "execution_count": null,
   "metadata": {},
   "outputs": [],
   "source": [
    "ldaGibbs_k@beta"
   ]
  },
  {
   "cell_type": "code",
   "execution_count": null,
   "metadata": {
    "collapsed": true
   },
   "outputs": [],
   "source": [
    "# dtms$dimnames$Terms"
   ]
  },
  {
   "cell_type": "code",
   "execution_count": null,
   "metadata": {},
   "outputs": [],
   "source": [
    "lda.terms <- as.matrix(terms(ldaGibbs_k, 10))\n",
    "lda.terms"
   ]
  },
  {
   "cell_type": "code",
   "execution_count": null,
   "metadata": {},
   "outputs": [],
   "source": [
    "length(terms(ldaGibbs_k, 2000)[,1])# First column how many terms in topic; 1858 not 2000"
   ]
  },
  {
   "cell_type": "markdown",
   "metadata": {
    "collapsed": true
   },
   "source": [
    "# LSA"
   ]
  },
  {
   "cell_type": "code",
   "execution_count": null,
   "metadata": {},
   "outputs": [],
   "source": [
    "#LSA\n",
    "reduce <-function(A,dim) {\n",
    "#Calculates the SVD\n",
    "single_val_d <-svd(A) #Approximate each result of SVD with the given dimension\n",
    "u<-as.matrix(single_val_d$u[, 1:dim])\n",
    "v<-as.matrix(single_val_d$v[, 1:dim])\n",
    "d<-as.matrix(diag(single_val_d$d)[1:dim, 1:dim])\n",
    "\n",
    "#Create the new approximated matrix\n",
    "return(as.matrix(u%*%d%*%t(v),type='blue'))\n",
    "}\n",
    "#50\n",
    "reduce_50 <-reduce(dtms,50)"
   ]
  },
  {
   "cell_type": "code",
   "execution_count": null,
   "metadata": {
    "collapsed": true
   },
   "outputs": [],
   "source": [
    "sing <-svd(dtms)\n",
    "diag(sing$d)[1:6,]"
   ]
  },
  {
   "cell_type": "code",
   "execution_count": null,
   "metadata": {
    "collapsed": true
   },
   "outputs": [],
   "source": [
    "sv = sort.list(abs(sing$v[,6]), decreasing = TRUE)\n",
    "dtms$dimnames$Terms[head(sv, 5)]"
   ]
  },
  {
   "cell_type": "code",
   "execution_count": null,
   "metadata": {
    "collapsed": true
   },
   "outputs": [],
   "source": [
    "ldaGibbs_k"
   ]
  },
  {
   "cell_type": "markdown",
   "metadata": {},
   "source": [
    "## Visualization"
   ]
  },
  {
   "cell_type": "code",
   "execution_count": 79,
   "metadata": {},
   "outputs": [
    {
     "name": "stderr",
     "output_type": "stream",
     "text": [
      "\n",
      "Attaching package: ‘text2vec’\n",
      "\n",
      "The following object is masked from ‘package:topicmodels’:\n",
      "\n",
      "    perplexity\n",
      "\n"
     ]
    }
   ],
   "source": [
    "library(stringr)\n",
    "library(text2vec)\n"
   ]
  },
  {
   "cell_type": "code",
   "execution_count": 83,
   "metadata": {},
   "outputs": [],
   "source": [
    "#LSA:\n",
    "lsa = LSA$new(n_topics = 3)"
   ]
  },
  {
   "cell_type": "code",
   "execution_count": 85,
   "metadata": {},
   "outputs": [
    {
     "ename": "ERROR",
     "evalue": "Error in super$check_convert_input(x, private$internal_matrix_formats): don't know how to deal with input of class 'DocumentTermMatrix | simple_triplet_matrix'\n",
     "output_type": "error",
     "traceback": [
      "Error in super$check_convert_input(x, private$internal_matrix_formats): don't know how to deal with input of class 'DocumentTermMatrix | simple_triplet_matrix'\nTraceback:\n",
      "1. lsa$fit_transform(dtms)",
      "2. super$check_convert_input(x, private$internal_matrix_formats)",
      "3. stop(sprintf(\"don't know how to deal with input of class '%s'\", \n .     paste(class(x), collapse = \" | \")))"
     ]
    }
   ],
   "source": [
    "lsa$fit_transform()"
   ]
  },
  {
   "cell_type": "code",
   "execution_count": null,
   "metadata": {
    "collapsed": true
   },
   "outputs": [],
   "source": [
    "lsa$transform(dtm)\n"
   ]
  },
  {
   "cell_type": "code",
   "execution_count": null,
   "metadata": {
    "collapsed": true
   },
   "outputs": [],
   "source": [
    "lsa$components"
   ]
  },
  {
   "cell_type": "markdown",
   "metadata": {},
   "source": [
    "#### Creating Latent space:\n",
    "https://www.rdocumentation.org/packages/lsa/versions/0.73.1/topics/lsa"
   ]
  },
  {
   "cell_type": "code",
   "execution_count": null,
   "metadata": {
    "collapsed": true
   },
   "outputs": [],
   "source": [
    "# create some files\n",
    "td = tempfile()\n",
    "dir.create(td)\n",
    "write( c(\"dog\", \"cat\", \"mouse\"), file=paste(td, \"D1\", sep=\"/\") )\n",
    "write( c(\"ham\", \"mouse\", \"sushi\"), file=paste(td, \"D2\", sep=\"/\") )\n",
    "write( c(\"dog\", \"pet\", \"pet\"), file=paste(td, \"D3\", sep=\"/\") )\n",
    "\n",
    "# LSA\n",
    "data(stopwords_en)\n",
    "myMatrix = textmatrix(td, stopwords=stopwords_en)\n",
    "myMatrix = lw_logtf(myMatrix) * gw_idf(myMatrix)\n",
    "myLSAspace = lsa(myMatrix, dims=dimcalc_share())\n",
    "as.textmatrix(myLSAspace)\n"
   ]
  },
  {
   "cell_type": "code",
   "execution_count": null,
   "metadata": {
    "collapsed": true
   },
   "outputs": [],
   "source": [
    "### Vector mapping:\n",
    "words_to_remove_in_article<-c(\"system\",\"reserve\",\"tthe\",\"rnthe\",\"participants\", \"continue\", \"open\",\"committee\", \"federal\", \"also\", \"meeting\", \"FOMC\", \"\\r\",\"\\t\",\"Present\", \"\\n\", 'year') #irrevalant words\n",
    "\n",
    "#buildt dtm\n",
    "lsatextmatrix <- textmatrix(mydir = folder, stemming = TRUE, language = \"english\", minWordLength = 4,\n",
    "                            minDocFreq = 2, stopwords = words_to_remove_in_article, removeNumbers = TRUE)\n",
    "\n",
    "# folder_i <-\"/home/harish/PycharmProjects/Topic-Modeling/Data Extraction/dataset/speeches/brainard.pdf\"\n",
    "\n",
    "# #build other dtm\n",
    "# lsatextmatrix2003 <- textmatrix(mydir = folder_i, vocabulary = rownames(lsatextmatrix))\n",
    "\n",
    "# #perform lsa\n",
    "# lsa2002 <- lsa(lsatextmatrix)\n",
    "\n",
    "\n",
    "# ##fold in\n",
    "# lsa2003folded <- fold_in(lsatextmatrix2003 ,lsa2002)"
   ]
  },
  {
   "cell_type": "code",
   "execution_count": null,
   "metadata": {
    "collapsed": true
   },
   "outputs": [],
   "source": [
    "lsatextmatrix"
   ]
  },
  {
   "cell_type": "markdown",
   "metadata": {},
   "source": [
    "# Lexicon based progress over year"
   ]
  },
  {
   "cell_type": "code",
   "execution_count": null,
   "metadata": {
    "collapsed": true
   },
   "outputs": [],
   "source": [
    "lsa"
   ]
  },
  {
   "cell_type": "markdown",
   "metadata": {},
   "source": [
    "# Document Sim"
   ]
  },
  {
   "cell_type": "code",
   "execution_count": 241,
   "metadata": {
    "collapsed": true
   },
   "outputs": [],
   "source": [
    "folder_i <-\"/home/harish/PycharmProjects/Topic-Modeling/Data Extraction/dataset/FullDataset/\"\n"
   ]
  },
  {
   "cell_type": "code",
   "execution_count": 242,
   "metadata": {},
   "outputs": [
    {
     "data": {
      "text/html": [
       "2"
      ],
      "text/latex": [
       "2"
      ],
      "text/markdown": [
       "2"
      ],
      "text/plain": [
       "[1] 2"
      ]
     },
     "metadata": {},
     "output_type": "display_data"
    }
   ],
   "source": [
    " text_dtm <- textmatrix(mydir = folder_i, stemming = TRUE, language = \"english\", minWordLength = 4,\n",
    "                              minDocFreq = 1,stopwords = words_to_remove_in_article, removeNumbers = TRUE)\n",
    "  \n",
    "  ##dimcalc_share is a method to find best number of concepts; use this or do another analysis?\n",
    "  myLSAspace <- lsa(text_dtm, dims = dimcalc_share())\n",
    "dimcalc_share()(myLSAspace$sk)"
   ]
  },
  {
   "cell_type": "code",
   "execution_count": 243,
   "metadata": {},
   "outputs": [
    {
     "data": {
      "text/html": [
       "2"
      ],
      "text/latex": [
       "2"
      ],
      "text/markdown": [
       "2"
      ],
      "text/plain": [
       "[1] 2"
      ]
     },
     "metadata": {},
     "output_type": "display_data"
    }
   ],
   "source": [
    "dimcalc_share()(myLSAspace$sk)#concepts of lsa based on eigen values"
   ]
  },
  {
   "cell_type": "code",
   "execution_count": 244,
   "metadata": {},
   "outputs": [
    {
     "data": {
      "text/html": [
       "<ol class=list-inline>\n",
       "\t<li>2892.1065801494</li>\n",
       "\t<li>2219.15846309604</li>\n",
       "\t<li>742.101988870374</li>\n",
       "\t<li>387.141934383191</li>\n",
       "\t<li>341.324839592329</li>\n",
       "\t<li>305.775407369122</li>\n",
       "\t<li>231.055468341685</li>\n",
       "\t<li>223.191201091378</li>\n",
       "\t<li>206.611147954417</li>\n",
       "\t<li>191.52095952718</li>\n",
       "\t<li>176.159020468593</li>\n",
       "\t<li>174.730682270753</li>\n",
       "\t<li>160.24651110015</li>\n",
       "\t<li>157.897037807547</li>\n",
       "\t<li>138.813668598142</li>\n",
       "\t<li>133.491144949413</li>\n",
       "\t<li>132.984895731628</li>\n",
       "\t<li>128.280688755085</li>\n",
       "\t<li>126.964932594929</li>\n",
       "</ol>\n"
      ],
      "text/latex": [
       "\\begin{enumerate*}\n",
       "\\item 2892.1065801494\n",
       "\\item 2219.15846309604\n",
       "\\item 742.101988870374\n",
       "\\item 387.141934383191\n",
       "\\item 341.324839592329\n",
       "\\item 305.775407369122\n",
       "\\item 231.055468341685\n",
       "\\item 223.191201091378\n",
       "\\item 206.611147954417\n",
       "\\item 191.52095952718\n",
       "\\item 176.159020468593\n",
       "\\item 174.730682270753\n",
       "\\item 160.24651110015\n",
       "\\item 157.897037807547\n",
       "\\item 138.813668598142\n",
       "\\item 133.491144949413\n",
       "\\item 132.984895731628\n",
       "\\item 128.280688755085\n",
       "\\item 126.964932594929\n",
       "\\end{enumerate*}\n"
      ],
      "text/markdown": [
       "1. 2892.1065801494\n",
       "2. 2219.15846309604\n",
       "3. 742.101988870374\n",
       "4. 387.141934383191\n",
       "5. 341.324839592329\n",
       "6. 305.775407369122\n",
       "7. 231.055468341685\n",
       "8. 223.191201091378\n",
       "9. 206.611147954417\n",
       "10. 191.52095952718\n",
       "11. 176.159020468593\n",
       "12. 174.730682270753\n",
       "13. 160.24651110015\n",
       "14. 157.897037807547\n",
       "15. 138.813668598142\n",
       "16. 133.491144949413\n",
       "17. 132.984895731628\n",
       "18. 128.280688755085\n",
       "19. 126.964932594929\n",
       "\n",
       "\n"
      ],
      "text/plain": [
       " [1] 2892.1066 2219.1585  742.1020  387.1419  341.3248  305.7754  231.0555\n",
       " [8]  223.1912  206.6111  191.5210  176.1590  174.7307  160.2465  157.8970\n",
       "[15]  138.8137  133.4911  132.9849  128.2807  126.9649"
      ]
     },
     "metadata": {},
     "output_type": "display_data"
    }
   ],
   "source": [
    "myLSAspace$sk#eigen values"
   ]
  },
  {
   "cell_type": "code",
   "execution_count": 136,
   "metadata": {},
   "outputs": [],
   "source": [
    "# help(lsa)\n",
    "# text_lsa_decomp$sk"
   ]
  },
  {
   "cell_type": "code",
   "execution_count": 190,
   "metadata": {},
   "outputs": [],
   "source": [
    "# as.textmatrix(myLSAspace)"
   ]
  },
  {
   "cell_type": "code",
   "execution_count": 246,
   "metadata": {},
   "outputs": [],
   "source": [
    "#2017 speeches\n",
    "folder_minutes <- \"/home/harish/PycharmProjects/Topic-Modeling/Data Extraction/dataset/pdftotext_2017speech/\"\n",
    "  \n",
    "  #build other dtm\n",
    "  speech_dtm <- textmatrix(mydir = folder_minutes, vocabulary = rownames(text_dtm))\n",
    "\n",
    "##fold in\n",
    "  lsa_folded <- fold_in(speech_dtm,myLSAspace)"
   ]
  },
  {
   "cell_type": "code",
   "execution_count": 247,
   "metadata": {},
   "outputs": [],
   "source": [
    "# help(lsa_folded)\n",
    "# plot(lsa_folded)"
   ]
  },
  {
   "cell_type": "code",
   "execution_count": 248,
   "metadata": {},
   "outputs": [
    {
     "data": {
      "text/plain": [
       "                vocabulary                  documents \n",
       "                     11237                          9 \n",
       "             freqs not '0'            max term length \n",
       "                     30108                        249 \n",
       "non-alphanumerics in terms \n",
       "                      6803 \n",
       "attr(,\"class\")\n",
       "[1] \"summary.textmatrix\""
      ]
     },
     "metadata": {},
     "output_type": "display_data"
    }
   ],
   "source": [
    "summary(lsa_folded)"
   ]
  },
  {
   "cell_type": "code",
   "execution_count": 249,
   "metadata": {},
   "outputs": [
    {
     "data": {
      "text/html": [
       "<ol class=list-inline>\n",
       "\t<li>11237</li>\n",
       "\t<li>9</li>\n",
       "</ol>\n"
      ],
      "text/latex": [
       "\\begin{enumerate*}\n",
       "\\item 11237\n",
       "\\item 9\n",
       "\\end{enumerate*}\n"
      ],
      "text/markdown": [
       "1. 11237\n",
       "2. 9\n",
       "\n",
       "\n"
      ],
      "text/plain": [
       "[1] 11237     9"
      ]
     },
     "metadata": {},
     "output_type": "display_data"
    }
   ],
   "source": [
    "dim(lsa_folded)"
   ]
  },
  {
   "cell_type": "code",
   "execution_count": 250,
   "metadata": {},
   "outputs": [
    {
     "data": {
      "text/html": [
       "<table>\n",
       "<thead><tr><th></th><th scope=col>brainard.txt</th><th scope=col>dudley.txt</th><th scope=col>evans.txt</th><th scope=col>fischer.txt</th><th scope=col>harker.txt</th><th scope=col>kaplan.txt</th><th scope=col>Kashkari.txt</th><th scope=col>powell.txt</th><th scope=col>yellen.txt</th></tr></thead>\n",
       "<tbody>\n",
       "\t<tr><th scope=row>brainard.txt</th><td>1.0000000</td><td>0.6043179</td><td>0.6951372</td><td>0.4905119</td><td>0.6963348</td><td>0.6832839</td><td>0.6075810</td><td>0.6701767</td><td>0.7691029</td></tr>\n",
       "\t<tr><th scope=row>dudley.txt</th><td>0.6043179</td><td>1.0000000</td><td>0.7462444</td><td>0.6146830</td><td>0.7692043</td><td>0.7132616</td><td>0.6855168</td><td>0.8312445</td><td>0.7333257</td></tr>\n",
       "\t<tr><th scope=row>evans.txt</th><td>0.6951372</td><td>0.7462444</td><td>1.0000000</td><td>0.6038162</td><td>0.7674904</td><td>0.7888460</td><td>0.6025521</td><td>0.8190581</td><td>0.8764073</td></tr>\n",
       "\t<tr><th scope=row>fischer.txt</th><td>0.4905119</td><td>0.6146830</td><td>0.6038162</td><td>1.0000000</td><td>0.5751133</td><td>0.5867669</td><td>0.5005156</td><td>0.5984797</td><td>0.6145501</td></tr>\n",
       "\t<tr><th scope=row>harker.txt</th><td>0.6963348</td><td>0.7692043</td><td>0.7674904</td><td>0.5751133</td><td>1.0000000</td><td>0.7111146</td><td>0.7169113</td><td>0.7311835</td><td>0.7404572</td></tr>\n",
       "\t<tr><th scope=row>kaplan.txt</th><td>0.6832839</td><td>0.7132616</td><td>0.7888460</td><td>0.5867669</td><td>0.7111146</td><td>1.0000000</td><td>0.6398382</td><td>0.7056747</td><td>0.7976523</td></tr>\n",
       "\t<tr><th scope=row>Kashkari.txt</th><td>0.6075810</td><td>0.6855168</td><td>0.6025521</td><td>0.5005156</td><td>0.7169113</td><td>0.6398382</td><td>1.0000000</td><td>0.5519205</td><td>0.6203946</td></tr>\n",
       "\t<tr><th scope=row>powell.txt</th><td>0.6701767</td><td>0.8312445</td><td>0.8190581</td><td>0.5984797</td><td>0.7311835</td><td>0.7056747</td><td>0.5519205</td><td>1.0000000</td><td>0.8138736</td></tr>\n",
       "\t<tr><th scope=row>yellen.txt</th><td>0.7691029</td><td>0.7333257</td><td>0.8764073</td><td>0.6145501</td><td>0.7404572</td><td>0.7976523</td><td>0.6203946</td><td>0.8138736</td><td>1.0000000</td></tr>\n",
       "</tbody>\n",
       "</table>\n"
      ],
      "text/latex": [
       "\\begin{tabular}{r|lllllllll}\n",
       "  & brainard.txt & dudley.txt & evans.txt & fischer.txt & harker.txt & kaplan.txt & Kashkari.txt & powell.txt & yellen.txt\\\\\n",
       "\\hline\n",
       "\tbrainard.txt & 1.0000000 & 0.6043179 & 0.6951372 & 0.4905119 & 0.6963348 & 0.6832839 & 0.6075810 & 0.6701767 & 0.7691029\\\\\n",
       "\tdudley.txt & 0.6043179 & 1.0000000 & 0.7462444 & 0.6146830 & 0.7692043 & 0.7132616 & 0.6855168 & 0.8312445 & 0.7333257\\\\\n",
       "\tevans.txt & 0.6951372 & 0.7462444 & 1.0000000 & 0.6038162 & 0.7674904 & 0.7888460 & 0.6025521 & 0.8190581 & 0.8764073\\\\\n",
       "\tfischer.txt & 0.4905119 & 0.6146830 & 0.6038162 & 1.0000000 & 0.5751133 & 0.5867669 & 0.5005156 & 0.5984797 & 0.6145501\\\\\n",
       "\tharker.txt & 0.6963348 & 0.7692043 & 0.7674904 & 0.5751133 & 1.0000000 & 0.7111146 & 0.7169113 & 0.7311835 & 0.7404572\\\\\n",
       "\tkaplan.txt & 0.6832839 & 0.7132616 & 0.7888460 & 0.5867669 & 0.7111146 & 1.0000000 & 0.6398382 & 0.7056747 & 0.7976523\\\\\n",
       "\tKashkari.txt & 0.6075810 & 0.6855168 & 0.6025521 & 0.5005156 & 0.7169113 & 0.6398382 & 1.0000000 & 0.5519205 & 0.6203946\\\\\n",
       "\tpowell.txt & 0.6701767 & 0.8312445 & 0.8190581 & 0.5984797 & 0.7311835 & 0.7056747 & 0.5519205 & 1.0000000 & 0.8138736\\\\\n",
       "\tyellen.txt & 0.7691029 & 0.7333257 & 0.8764073 & 0.6145501 & 0.7404572 & 0.7976523 & 0.6203946 & 0.8138736 & 1.0000000\\\\\n",
       "\\end{tabular}\n"
      ],
      "text/markdown": [
       "\n",
       "| <!--/--> | brainard.txt | dudley.txt | evans.txt | fischer.txt | harker.txt | kaplan.txt | Kashkari.txt | powell.txt | yellen.txt | \n",
       "|---|---|---|---|---|---|---|---|---|\n",
       "| brainard.txt | 1.0000000 | 0.6043179 | 0.6951372 | 0.4905119 | 0.6963348 | 0.6832839 | 0.6075810 | 0.6701767 | 0.7691029 | \n",
       "| dudley.txt | 0.6043179 | 1.0000000 | 0.7462444 | 0.6146830 | 0.7692043 | 0.7132616 | 0.6855168 | 0.8312445 | 0.7333257 | \n",
       "| evans.txt | 0.6951372 | 0.7462444 | 1.0000000 | 0.6038162 | 0.7674904 | 0.7888460 | 0.6025521 | 0.8190581 | 0.8764073 | \n",
       "| fischer.txt | 0.4905119 | 0.6146830 | 0.6038162 | 1.0000000 | 0.5751133 | 0.5867669 | 0.5005156 | 0.5984797 | 0.6145501 | \n",
       "| harker.txt | 0.6963348 | 0.7692043 | 0.7674904 | 0.5751133 | 1.0000000 | 0.7111146 | 0.7169113 | 0.7311835 | 0.7404572 | \n",
       "| kaplan.txt | 0.6832839 | 0.7132616 | 0.7888460 | 0.5867669 | 0.7111146 | 1.0000000 | 0.6398382 | 0.7056747 | 0.7976523 | \n",
       "| Kashkari.txt | 0.6075810 | 0.6855168 | 0.6025521 | 0.5005156 | 0.7169113 | 0.6398382 | 1.0000000 | 0.5519205 | 0.6203946 | \n",
       "| powell.txt | 0.6701767 | 0.8312445 | 0.8190581 | 0.5984797 | 0.7311835 | 0.7056747 | 0.5519205 | 1.0000000 | 0.8138736 | \n",
       "| yellen.txt | 0.7691029 | 0.7333257 | 0.8764073 | 0.6145501 | 0.7404572 | 0.7976523 | 0.6203946 | 0.8138736 | 1.0000000 | \n",
       "\n",
       "\n"
      ],
      "text/plain": [
       "             brainard.txt dudley.txt evans.txt fischer.txt harker.txt\n",
       "brainard.txt 1.0000000    0.6043179  0.6951372 0.4905119   0.6963348 \n",
       "dudley.txt   0.6043179    1.0000000  0.7462444 0.6146830   0.7692043 \n",
       "evans.txt    0.6951372    0.7462444  1.0000000 0.6038162   0.7674904 \n",
       "fischer.txt  0.4905119    0.6146830  0.6038162 1.0000000   0.5751133 \n",
       "harker.txt   0.6963348    0.7692043  0.7674904 0.5751133   1.0000000 \n",
       "kaplan.txt   0.6832839    0.7132616  0.7888460 0.5867669   0.7111146 \n",
       "Kashkari.txt 0.6075810    0.6855168  0.6025521 0.5005156   0.7169113 \n",
       "powell.txt   0.6701767    0.8312445  0.8190581 0.5984797   0.7311835 \n",
       "yellen.txt   0.7691029    0.7333257  0.8764073 0.6145501   0.7404572 \n",
       "             kaplan.txt Kashkari.txt powell.txt yellen.txt\n",
       "brainard.txt 0.6832839  0.6075810    0.6701767  0.7691029 \n",
       "dudley.txt   0.7132616  0.6855168    0.8312445  0.7333257 \n",
       "evans.txt    0.7888460  0.6025521    0.8190581  0.8764073 \n",
       "fischer.txt  0.5867669  0.5005156    0.5984797  0.6145501 \n",
       "harker.txt   0.7111146  0.7169113    0.7311835  0.7404572 \n",
       "kaplan.txt   1.0000000  0.6398382    0.7056747  0.7976523 \n",
       "Kashkari.txt 0.6398382  1.0000000    0.5519205  0.6203946 \n",
       "powell.txt   0.7056747  0.5519205    1.0000000  0.8138736 \n",
       "yellen.txt   0.7976523  0.6203946    0.8138736  1.0000000 "
      ]
     },
     "metadata": {},
     "output_type": "display_data"
    }
   ],
   "source": [
    "# similarity among speakers with their speech alone\n",
    "corr_speech <- cosine(speech_dtm)\n",
    "corr_speech"
   ]
  },
  {
   "cell_type": "code",
   "execution_count": 251,
   "metadata": {},
   "outputs": [
    {
     "data": {
      "text/html": [
       "<table>\n",
       "<thead><tr><th></th><th scope=col>brainard.txt</th><th scope=col>dudley.txt</th><th scope=col>evans.txt</th><th scope=col>fischer.txt</th><th scope=col>harker.txt</th><th scope=col>kaplan.txt</th><th scope=col>Kashkari.txt</th><th scope=col>powell.txt</th><th scope=col>yellen.txt</th></tr></thead>\n",
       "<tbody>\n",
       "\t<tr><th scope=row>brainard.txt</th><td>1.0000000</td><td>0.9189151</td><td>0.9619748</td><td>0.8827136</td><td>0.9674164</td><td>0.9146716</td><td>0.8826319</td><td>0.9332419</td><td>0.9431430</td></tr>\n",
       "\t<tr><th scope=row>dudley.txt</th><td>0.9189151</td><td>1.0000000</td><td>0.9456656</td><td>0.9357663</td><td>0.9689642</td><td>0.9166537</td><td>0.9537709</td><td>0.9764647</td><td>0.9361457</td></tr>\n",
       "\t<tr><th scope=row>evans.txt</th><td>0.9619748</td><td>0.9456656</td><td>1.0000000</td><td>0.9363361</td><td>0.9611033</td><td>0.9679351</td><td>0.8941344</td><td>0.9768090</td><td>0.9908838</td></tr>\n",
       "\t<tr><th scope=row>fischer.txt</th><td>0.8827136</td><td>0.9357663</td><td>0.9363361</td><td>1.0000000</td><td>0.9308726</td><td>0.9321068</td><td>0.9082748</td><td>0.9444067</td><td>0.9461500</td></tr>\n",
       "\t<tr><th scope=row>harker.txt</th><td>0.9674164</td><td>0.9689642</td><td>0.9611033</td><td>0.9308726</td><td>1.0000000</td><td>0.9475532</td><td>0.9588178</td><td>0.9483520</td><td>0.9486585</td></tr>\n",
       "\t<tr><th scope=row>kaplan.txt</th><td>0.9146716</td><td>0.9166537</td><td>0.9679351</td><td>0.9321068</td><td>0.9475532</td><td>1.0000000</td><td>0.8874003</td><td>0.9277758</td><td>0.9644888</td></tr>\n",
       "\t<tr><th scope=row>Kashkari.txt</th><td>0.8826319</td><td>0.9537709</td><td>0.8941344</td><td>0.9082748</td><td>0.9588178</td><td>0.8874003</td><td>1.0000000</td><td>0.8998820</td><td>0.8902619</td></tr>\n",
       "\t<tr><th scope=row>powell.txt</th><td>0.9332419</td><td>0.9764647</td><td>0.9768090</td><td>0.9444067</td><td>0.9483520</td><td>0.9277758</td><td>0.8998820</td><td>1.0000000</td><td>0.9695497</td></tr>\n",
       "\t<tr><th scope=row>yellen.txt</th><td>0.9431430</td><td>0.9361457</td><td>0.9908838</td><td>0.9461500</td><td>0.9486585</td><td>0.9644888</td><td>0.8902619</td><td>0.9695497</td><td>1.0000000</td></tr>\n",
       "</tbody>\n",
       "</table>\n"
      ],
      "text/latex": [
       "\\begin{tabular}{r|lllllllll}\n",
       "  & brainard.txt & dudley.txt & evans.txt & fischer.txt & harker.txt & kaplan.txt & Kashkari.txt & powell.txt & yellen.txt\\\\\n",
       "\\hline\n",
       "\tbrainard.txt & 1.0000000 & 0.9189151 & 0.9619748 & 0.8827136 & 0.9674164 & 0.9146716 & 0.8826319 & 0.9332419 & 0.9431430\\\\\n",
       "\tdudley.txt & 0.9189151 & 1.0000000 & 0.9456656 & 0.9357663 & 0.9689642 & 0.9166537 & 0.9537709 & 0.9764647 & 0.9361457\\\\\n",
       "\tevans.txt & 0.9619748 & 0.9456656 & 1.0000000 & 0.9363361 & 0.9611033 & 0.9679351 & 0.8941344 & 0.9768090 & 0.9908838\\\\\n",
       "\tfischer.txt & 0.8827136 & 0.9357663 & 0.9363361 & 1.0000000 & 0.9308726 & 0.9321068 & 0.9082748 & 0.9444067 & 0.9461500\\\\\n",
       "\tharker.txt & 0.9674164 & 0.9689642 & 0.9611033 & 0.9308726 & 1.0000000 & 0.9475532 & 0.9588178 & 0.9483520 & 0.9486585\\\\\n",
       "\tkaplan.txt & 0.9146716 & 0.9166537 & 0.9679351 & 0.9321068 & 0.9475532 & 1.0000000 & 0.8874003 & 0.9277758 & 0.9644888\\\\\n",
       "\tKashkari.txt & 0.8826319 & 0.9537709 & 0.8941344 & 0.9082748 & 0.9588178 & 0.8874003 & 1.0000000 & 0.8998820 & 0.8902619\\\\\n",
       "\tpowell.txt & 0.9332419 & 0.9764647 & 0.9768090 & 0.9444067 & 0.9483520 & 0.9277758 & 0.8998820 & 1.0000000 & 0.9695497\\\\\n",
       "\tyellen.txt & 0.9431430 & 0.9361457 & 0.9908838 & 0.9461500 & 0.9486585 & 0.9644888 & 0.8902619 & 0.9695497 & 1.0000000\\\\\n",
       "\\end{tabular}\n"
      ],
      "text/markdown": [
       "\n",
       "| <!--/--> | brainard.txt | dudley.txt | evans.txt | fischer.txt | harker.txt | kaplan.txt | Kashkari.txt | powell.txt | yellen.txt | \n",
       "|---|---|---|---|---|---|---|---|---|\n",
       "| brainard.txt | 1.0000000 | 0.9189151 | 0.9619748 | 0.8827136 | 0.9674164 | 0.9146716 | 0.8826319 | 0.9332419 | 0.9431430 | \n",
       "| dudley.txt | 0.9189151 | 1.0000000 | 0.9456656 | 0.9357663 | 0.9689642 | 0.9166537 | 0.9537709 | 0.9764647 | 0.9361457 | \n",
       "| evans.txt | 0.9619748 | 0.9456656 | 1.0000000 | 0.9363361 | 0.9611033 | 0.9679351 | 0.8941344 | 0.9768090 | 0.9908838 | \n",
       "| fischer.txt | 0.8827136 | 0.9357663 | 0.9363361 | 1.0000000 | 0.9308726 | 0.9321068 | 0.9082748 | 0.9444067 | 0.9461500 | \n",
       "| harker.txt | 0.9674164 | 0.9689642 | 0.9611033 | 0.9308726 | 1.0000000 | 0.9475532 | 0.9588178 | 0.9483520 | 0.9486585 | \n",
       "| kaplan.txt | 0.9146716 | 0.9166537 | 0.9679351 | 0.9321068 | 0.9475532 | 1.0000000 | 0.8874003 | 0.9277758 | 0.9644888 | \n",
       "| Kashkari.txt | 0.8826319 | 0.9537709 | 0.8941344 | 0.9082748 | 0.9588178 | 0.8874003 | 1.0000000 | 0.8998820 | 0.8902619 | \n",
       "| powell.txt | 0.9332419 | 0.9764647 | 0.9768090 | 0.9444067 | 0.9483520 | 0.9277758 | 0.8998820 | 1.0000000 | 0.9695497 | \n",
       "| yellen.txt | 0.9431430 | 0.9361457 | 0.9908838 | 0.9461500 | 0.9486585 | 0.9644888 | 0.8902619 | 0.9695497 | 1.0000000 | \n",
       "\n",
       "\n"
      ],
      "text/plain": [
       "             brainard.txt dudley.txt evans.txt fischer.txt harker.txt\n",
       "brainard.txt 1.0000000    0.9189151  0.9619748 0.8827136   0.9674164 \n",
       "dudley.txt   0.9189151    1.0000000  0.9456656 0.9357663   0.9689642 \n",
       "evans.txt    0.9619748    0.9456656  1.0000000 0.9363361   0.9611033 \n",
       "fischer.txt  0.8827136    0.9357663  0.9363361 1.0000000   0.9308726 \n",
       "harker.txt   0.9674164    0.9689642  0.9611033 0.9308726   1.0000000 \n",
       "kaplan.txt   0.9146716    0.9166537  0.9679351 0.9321068   0.9475532 \n",
       "Kashkari.txt 0.8826319    0.9537709  0.8941344 0.9082748   0.9588178 \n",
       "powell.txt   0.9332419    0.9764647  0.9768090 0.9444067   0.9483520 \n",
       "yellen.txt   0.9431430    0.9361457  0.9908838 0.9461500   0.9486585 \n",
       "             kaplan.txt Kashkari.txt powell.txt yellen.txt\n",
       "brainard.txt 0.9146716  0.8826319    0.9332419  0.9431430 \n",
       "dudley.txt   0.9166537  0.9537709    0.9764647  0.9361457 \n",
       "evans.txt    0.9679351  0.8941344    0.9768090  0.9908838 \n",
       "fischer.txt  0.9321068  0.9082748    0.9444067  0.9461500 \n",
       "harker.txt   0.9475532  0.9588178    0.9483520  0.9486585 \n",
       "kaplan.txt   1.0000000  0.8874003    0.9277758  0.9644888 \n",
       "Kashkari.txt 0.8874003  1.0000000    0.8998820  0.8902619 \n",
       "powell.txt   0.9277758  0.8998820    1.0000000  0.9695497 \n",
       "yellen.txt   0.9644888  0.8902619    0.9695497  1.0000000 "
      ]
     },
     "metadata": {},
     "output_type": "display_data"
    }
   ],
   "source": [
    "corr_lsaSpeech <- cosine(lsa_folded)# almost all are similar to each other for the given 2017 miunutes data\n",
    "corr_lsaSpeech"
   ]
  },
  {
   "cell_type": "code",
   "execution_count": 232,
   "metadata": {
    "collapsed": true
   },
   "outputs": [],
   "source": [
    "\n",
    "folder_minutes <- \"/home/harish/PycharmProjects/Topic-Modeling/Data Extraction/dataset/correlation/\"\n",
    "  \n",
    "  #build other dtm\n",
    "  corr_dtm <- textmatrix(mydir = folder_minutes, vocabulary = rownames(text_dtm))\n",
    "corr_2017<- cosine(corr_dtm)\n"
   ]
  },
  {
   "cell_type": "code",
   "execution_count": 235,
   "metadata": {},
   "outputs": [
    {
     "data": {
      "text/html": [
       "<strong>png:</strong> 2"
      ],
      "text/latex": [
       "\\textbf{png:} 2"
      ],
      "text/markdown": [
       "**png:** 2"
      ],
      "text/plain": [
       "png \n",
       "  2 "
      ]
     },
     "metadata": {},
     "output_type": "display_data"
    }
   ],
   "source": [
    "# corrplot(corr_2017, type = \"upper\", order = \"hclust\", \n",
    "#          tl.col = \"black\", tl.srt = 45)\n",
    "png(\"corr_2017.png\")\n",
    "corrplot(corr_2017, method = \"number\")\n",
    "dev.off()"
   ]
  },
  {
   "cell_type": "code",
   "execution_count": 209,
   "metadata": {},
   "outputs": [
    {
     "name": "stderr",
     "output_type": "stream",
     "text": [
      "corrplot 0.84 loaded\n"
     ]
    },
    {
     "data": {
      "image/png": "[encoded data removed]",
      "text/plain": [
       "Plot with title “”"
      ]
     },
     "metadata": {},
     "output_type": "display_data"
    }
   ],
   "source": [
    "library(corrplot)\n",
    "corrplot(corr, type = \"upper\", order = \"hclust\", \n",
    "         tl.col = \"black\", tl.srt = 45)"
   ]
  },
  {
   "cell_type": "code",
   "execution_count": 187,
   "metadata": {},
   "outputs": [],
   "source": [
    "g <- ggplot(corr_df, aes(x=names,y=corr)) \n",
    "  g + geom_bar(stat=\"identity\", width = 0.5, fill=\"tomato2\") + \n",
    "    labs(title=\"Bar Chart\", \n",
    "         subtitle=\"Correlation of Speeches And Minutes\") +\n",
    "    theme(axis.text.x = element_text(angle=65, vjust=0.6)) + geom_area()"
   ]
  },
  {
   "cell_type": "code",
   "execution_count": 188,
   "metadata": {},
   "outputs": [
    {
     "name": "stderr",
     "output_type": "stream",
     "text": [
      "Don't know how to automatically pick scale for object of type function. Defaulting to continuous.\n",
      "ERROR while rich displaying an object: Error: Aesthetics must be either length 1 or the same as the data (6): x, y\n",
      "\n",
      "Traceback:\n",
      "1. FUN(X[[i]], ...)\n",
      "2. tryCatch(withCallingHandlers({\n",
      " .     rpr <- mime2repr[[mime]](obj)\n",
      " .     if (is.null(rpr)) \n",
      " .         return(NULL)\n",
      " .     prepare_content(is.raw(rpr), rpr)\n",
      " . }, error = error_handler), error = outer_handler)\n",
      "3. tryCatchList(expr, classes, parentenv, handlers)\n",
      "4. tryCatchOne(expr, names, parentenv, handlers[[1L]])\n",
      "5. doTryCatch(return(expr), name, parentenv, handler)\n",
      "6. withCallingHandlers({\n",
      " .     rpr <- mime2repr[[mime]](obj)\n",
      " .     if (is.null(rpr)) \n",
      " .         return(NULL)\n",
      " .     prepare_content(is.raw(rpr), rpr)\n",
      " . }, error = error_handler)\n",
      "7. mime2repr[[mime]](obj)\n",
      "8. repr_text.default(obj)\n",
      "9. paste(capture.output(print(obj)), collapse = \"\\n\")\n",
      "10. capture.output(print(obj))\n",
      "11. evalVis(expr)\n",
      "12. withVisible(eval(expr, pf))\n",
      "13. eval(expr, pf)\n",
      "14. eval(expr, pf)\n",
      "15. print(obj)\n",
      "16. print.ggplot(obj)\n",
      "17. ggplot_build(x)\n",
      "18. by_layer(function(l, d) l$compute_aesthetics(d, plot))\n",
      "19. f(l = layers[[i]], d = data[[i]])\n",
      "20. l$compute_aesthetics(d, plot)\n",
      "21. f(..., self = self)\n",
      "22. check_aesthetics(evaled, n)\n",
      "23. stop(\"Aesthetics must be either length 1 or the same as the data (\", \n",
      "  .     n, \"): \", paste(names(!good), collapse = \", \"), call. = FALSE)\n"
     ]
    },
    {
     "data": {},
     "metadata": {},
     "output_type": "display_data"
    },
    {
     "data": {
      "image/png": "[encoded data removed]",
      "text/plain": [
       "plot without title"
      ]
     },
     "metadata": {},
     "output_type": "display_data"
    }
   ],
   "source": [
    "g"
   ]
  },
  {
   "cell_type": "code",
   "execution_count": 172,
   "metadata": {
    "scrolled": true
   },
   "outputs": [
    {
     "data": {
      "text/html": [
       "<strong>$growth</strong> = <dl class=dl-horizontal>\n",
       "\t<dt>moder</dt>\n",
       "\t\t<dd>0.8</dd>\n",
       "\t<dt>develop</dt>\n",
       "\t\t<dd>0.79</dd>\n",
       "</dl>\n"
      ],
      "text/latex": [
       "\\textbf{\\$growth} = \\begin{description*}\n",
       "\\item[moder] 0.8\n",
       "\\item[develop] 0.79\n",
       "\\end{description*}\n"
      ],
      "text/markdown": [
       "**$growth** = moder\n",
       ":   0.8develop\n",
       ":   0.79\n",
       "\n"
      ],
      "text/plain": [
       "$growth\n",
       "  moder develop \n",
       "   0.80    0.79 \n"
      ]
     },
     "metadata": {},
     "output_type": "display_data"
    }
   ],
   "source": [
    "findAssocs(dtms, 'growth', 0.70)#word association"
   ]
  },
  {
   "cell_type": "code",
   "execution_count": 178,
   "metadata": {
    "collapsed": true
   },
   "outputs": [],
   "source": [
    "help(hclust)"
   ]
  },
  {
   "cell_type": "code",
   "execution_count": 177,
   "metadata": {},
   "outputs": [
    {
     "name": "stdout",
     "output_type": "stream",
     "text": [
      "<<DocumentTermMatrix (documents: 25, terms: 4752)>>\n",
      "Non-/sparse entries: 41750/77050\n",
      "Sparsity           : 65%\n",
      "Maximal term length: 56\n",
      "Weighting          : term frequency (tf)\n",
      "Sample             :\n",
      "    Terms\n",
      "Docs econom expect growth increas inflat percent polici price project quarter\n",
      "  16    426    242    312     272    518     207    222   501     369     248\n",
      "  17    432    272    206     281    454     254    187   362     427     233\n",
      "  18    459    267    242     292    503     222    219   353     382     210\n",
      "  19    532    325    244     331    625     230    352   476     451     220\n",
      "  20    611    295    285     307    595     403    479   366     571     213\n",
      "  21    527    274    274     308    548     401    511   294     472     160\n",
      "  22    513    325    304     289    720     457    442   313     503     215\n",
      "  23    548    351    295     321    831     488    462   507     500     209\n",
      "  24    614    413    372     388    785     507    418   479     589     231\n",
      "  25    436    328    227     288    675     487    374   259     721     229\n"
     ]
    },
    {
     "data": {
      "image/png": "[encoded data removed]",
      "text/plain": [
       "Plot with title “Cluster Dendrogram”"
      ]
     },
     "metadata": {},
     "output_type": "display_data"
    }
   ],
   "source": [
    "my.df <- as.data.frame(inspect(dtms))\n",
    "my.df.scale <- scale(my.df)\n",
    "d <- dist(my.df.scale,method=\"euclidean\")\n",
    "fit <- hclust(d, method=\"ward.D\")\n",
    "# plot(fit)"
   ]
  },
  {
   "cell_type": "code",
   "execution_count": null,
   "metadata": {
    "collapsed": true
   },
   "outputs": [],
   "source": []
  }
 ],
 "metadata": {
  "kernelspec": {
   "display_name": "R",
   "language": "R",
   "name": "ir"
  },
  "language_info": {
   "codemirror_mode": "r",
   "file_extension": ".r",
   "mimetype": "text/x-r-source",
   "name": "R",
   "pygments_lexer": "r",
   "version": "3.4.2"
  }
 },
 "nbformat": 4,
 "nbformat_minor": 2
}
