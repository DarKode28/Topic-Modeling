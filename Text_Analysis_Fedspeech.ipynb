{
 "cells": [
  {
   "cell_type": "code",
   "execution_count": 1,
   "metadata": {},
   "outputs": [],
   "source": [
    "#Install and load library\n",
    "# update.packages(ask = FALSE)\n",
    "# install.packages(\"NLP\", dependencies=TRUE)\n",
    "# install.packages(\"slam\", dependencies=TRUE)\n",
    "# install.packages(\"tm\", dependencies=TRUE) # for text mining\n",
    "# install.package(\"SnowballC\", dependencies=TRUE) # for text stemming\n",
    "# install.packages(\"wordcloud\", dependencies=TRUE)# word-cloud generator\n",
    "# install.packages(\"RColorBrewer\", dependencies=TRUE) # color palettes\n",
    "# install.packages('lda', dependencies=TRUE)\n",
    "# install.packages('modeltools', dependencies=TRUE)\n",
    "# install.packages('stats4', dependencies=TRUE)\n",
    "# # install.packages('methods', dependencies=TRUE)\n",
    "# install.packages('toppicmodels', dependencies=TRUE)\n",
    "# install.packages('ggplot2', dependencies = TRUE)\n",
    "# install.packages(\"NbClust\", dependencies = TRUE)\n",
    "# install.packages(\"factoextra\", dependencies = TRUE)\n",
    "\n",
    "# install.packages(\"lda\", dependencies = TRUE)\n",
    "# install.packages(\"MASS\", dependencies = TRUE)\n",
    "# install.packages(\"topicmodels\", dependencies = TRUE)\n",
    "# install.packages(\"lsa\", dependencies = TRUE)\n",
    "# install.packages(\"text2vec\", dependencies = TRUE)"
   ]
  },
  {
   "cell_type": "code",
   "execution_count": 2,
   "metadata": {
    "collapsed": true
   },
   "outputs": [],
   "source": [
    "setwd(\"/home/harish/PycharmProjects/Topic-Modeling/\")"
   ]
  },
  {
   "cell_type": "code",
   "execution_count": 3,
   "metadata": {},
   "outputs": [
    {
     "name": "stderr",
     "output_type": "stream",
     "text": [
      "Loading required package: RColorBrewer\n",
      "\n",
      "Attaching package: ‘ggplot2’\n",
      "\n",
      "The following object is masked from ‘package:NLP’:\n",
      "\n",
      "    annotate\n",
      "\n",
      "Welcome! Related Books: `Practical Guide To Cluster Analysis in R` at https://goo.gl/13EFCZ\n"
     ]
    }
   ],
   "source": [
    "library(NLP)\n",
    "library(tm)\n",
    "library(SnowballC)\n",
    "library(wordcloud)\n",
    "library(RColorBrewer)\n",
    "library(ggplot2)\n",
    "library(factoextra)\n",
    "# library(cluster)\n",
    "library(NbClust)\n",
    "library(lsa)\n",
    "# library(fpc)\n",
    "\n",
    "#LDA\n",
    "\n",
    "library(lda)\n",
    "library(MASS)\n",
    "library(topicmodels)"
   ]
  },
  {
   "cell_type": "code",
   "execution_count": 4,
   "metadata": {},
   "outputs": [
    {
     "data": {
      "text/plain": [
       "   Length     Class      Mode \n",
       "        1 character character "
      ]
     },
     "metadata": {},
     "output_type": "display_data"
    }
   ],
   "source": [
    "## BUILDING CORPUS\n",
    "\n",
    "folder <-\"/home/harish/PycharmProjects/Topic-Modeling/Data Extraction/dataset/FullDataset/yearbasis/\"\n",
    "summary(folder)\n",
    "corpus_name <- Corpus(DirSource(folder, recursive=TRUE),readerControl = list(reader=readPlain));"
   ]
  },
  {
   "cell_type": "code",
   "execution_count": 5,
   "metadata": {
    "collapsed": true
   },
   "outputs": [],
   "source": [
    "num_docs <- length(corpus_name)"
   ]
  },
  {
   "cell_type": "code",
   "execution_count": 6,
   "metadata": {},
   "outputs": [
    {
     "name": "stdout",
     "output_type": "stream",
     "text": [
      "[1] \"dimension before:\"\n",
      "<<DocumentTermMatrix (documents: 25, terms: 10807)>>\n",
      "Non-/sparse entries: 66603/203572\n",
      "Sparsity           : 75%\n",
      "Maximal term length: 26\n",
      "Weighting          : term frequency (tf)\n",
      "[1] \"dimension after:\"\n",
      "<<DocumentTermMatrix (documents: 25, terms: 12529)>>\n",
      "Non-/sparse entries: 50979/262246\n",
      "Sparsity           : 84%\n",
      "Maximal term length: 142\n",
      "Weighting          : term frequency (tf)\n"
     ]
    }
   ],
   "source": [
    "#---------------Data preprocessing:\n",
    "print(\"dimension before:\");\n",
    "print(DocumentTermMatrix(corpus_name));\n",
    "\n",
    "corpus_name<-tm_map(corpus_name,PlainTextDocument);\n",
    "corpus_name<-tm_map(corpus_name, content_transformer(tolower));\n",
    "corpus_name<-tm_map(corpus_name,removeWords,stopwords(\"english\"));\n",
    "corpus_name<-tm_map(corpus_name,removePunctuation);\n",
    "corpus_name<-tm_map(corpus_name,removeNumbers);\n",
    "corpus_name<-tm_map(corpus_name,stripWhitespace);\n",
    "\n",
    "words_to_remove_in_article<-c(\"system\",\"reserve\",\"tthe\",\"rnthe\",\"participants\", \"continue\", \"open\",\"committee\", \"federal\", \"also\", \"meeting\", \"FOMC\", \"\\r\",\"\\t\",\"Present\", \"\\n\", 'year') #irrevalant words\n",
    "corpus_name<-tm_map(corpus_name, removeWords,words_to_remove_in_article); #removing irrevalant words in the article\n",
    "\n",
    "corpus_name<-tm_map(corpus_name, stemDocument, language=\"english\");\n",
    "\n",
    "print(\"dimension after:\");\n",
    "print(DocumentTermMatrix(corpus_name));"
   ]
  },
  {
   "cell_type": "code",
   "execution_count": 7,
   "metadata": {
    "collapsed": true
   },
   "outputs": [],
   "source": [
    "#todo: change the bounds, weighttfidf, "
   ]
  },
  {
   "cell_type": "code",
   "execution_count": 8,
   "metadata": {},
   "outputs": [
    {
     "name": "stdout",
     "output_type": "stream",
     "text": [
      "[1]   25 4752\n"
     ]
    },
    {
     "data": {
      "text/plain": [
       "<<DocumentTermMatrix (documents: 25, terms: 4752)>>\n",
       "Non-/sparse entries: 41750/77050\n",
       "Sparsity           : 65%\n",
       "Maximal term length: 56\n",
       "Weighting          : term frequency (tf)"
      ]
     },
     "metadata": {},
     "output_type": "display_data"
    }
   ],
   "source": [
    "#----------------------Text Analysis------\n",
    "\n",
    "##build tdm/dtm matrix\n",
    "tdm <- TermDocumentMatrix(corpus_name,control=list(wordLengths=c(4,Inf),bounds = list(global = c(2,Inf))))\n",
    "tdm_matrix <- as.matrix(tdm)\n",
    "##build a document/term matrix... words must have length 4\n",
    "dtm <- DocumentTermMatrix(corpus_name,control=list(wordLengths=c(4,Inf),bounds = list(global = c(2,Inf))))\n",
    "dtm_matrix <- as.matrix(dtm)\n",
    "print(dim(dtm_matrix))\n",
    "dtm"
   ]
  },
  {
   "cell_type": "code",
   "execution_count": 9,
   "metadata": {
    "scrolled": true
   },
   "outputs": [
    {
     "data": {
      "text/plain": [
       "<<DocumentTermMatrix (documents: 25, terms: 4752)>>\n",
       "Non-/sparse entries: 41750/77050\n",
       "Sparsity           : 65%\n",
       "Maximal term length: 56\n",
       "Weighting          : term frequency (tf)"
      ]
     },
     "metadata": {},
     "output_type": "display_data"
    }
   ],
   "source": [
    "dtms <- removeSparseTerms(dtm, 0.93)\n",
    "dtms"
   ]
  },
  {
   "cell_type": "code",
   "execution_count": 10,
   "metadata": {
    "scrolled": true
   },
   "outputs": [
    {
     "name": "stdout",
     "output_type": "stream",
     "text": [
      " [1] \"activ\"    \"balanc\"   \"bank\"     \"busi\"     \"chang\"    \"committe\"\n",
      " [7] \"condit\"   \"consum\"   \"continu\"  \"declin\"   \"econom\"   \"economi\" \n",
      "[13] \"expect\"   \"financi\"  \"forecast\" \"fund\"     \"growth\"   \"howev\"   \n",
      "[19] \"increas\"  \"indic\"    \"inflat\"   \"labor\"    \"level\"    \"like\"    \n",
      "[25] \"market\"   \"measur\"   \"moder\"    \"monetari\" \"month\"    \"note\"    \n",
      "[31] \"number\"   \"outlook\"  \"pace\"     \"percent\"  \"period\"   \"polici\"  \n",
      "[37] \"price\"    \"product\"  \"project\"  \"quarter\"  \"rang\"     \"rate\"    \n",
      "[43] \"real\"     \"remain\"   \"rise\"     \"risk\"     \"spend\"    \"time\"    \n",
      "[49] \"unemploy\"\n"
     ]
    }
   ],
   "source": [
    "m <- as.matrix(tdm)\n",
    "v <- sort(rowSums(m), decreasing=TRUE)\n",
    "d <- data.frame(word = names(v),freq=v)\n",
    "# print(head(d, 30))\n",
    "print(findFreqTerms(dtm,lowfreq = 2000))"
   ]
  },
  {
   "cell_type": "markdown",
   "metadata": {},
   "source": [
    "### Freq Visualization:"
   ]
  },
  {
   "cell_type": "code",
   "execution_count": 11,
   "metadata": {},
   "outputs": [
    {
     "data": {
      "image/png": "[encoded data removed]",
      "text/plain": [
       "Plot with title “Most frequent words”"
      ]
     },
     "metadata": {},
     "output_type": "display_data"
    }
   ],
   "source": [
    "  #bar plot:\n",
    "#   saveFileAs<- paste(\"wordFreq_barplot\", i, sep=\"_\")\n",
    "#   setwd('/home/harish/PycharmProjects/Topic-Modeling/pictures')\n",
    "#   png(filename = saveFileAs)\n",
    "  barplot(d[1:20,]$freq, las = 2, names.arg = d[1:20,]$word,\n",
    "          col =\"lightblue\", main =\"Most frequent words\",\n",
    "          ylab = \"Word frequencies\")\n",
    "#   dev.off()\n",
    "\n"
   ]
  },
  {
   "cell_type": "code",
   "execution_count": 12,
   "metadata": {
    "collapsed": true
   },
   "outputs": [],
   "source": [
    "#   saveFileAs<- paste(\"wordcloud\", i, sep=\"_\")\n",
    "#   png(filename = saveFileAs)\n",
    "#   wordcloud(names(v), v, max.words=100, rot.per=0.15, random.order=F,colors=brewer.pal(8, \"Dark2\"))\n",
    "#   dev.off()"
   ]
  },
  {
   "cell_type": "code",
   "execution_count": 13,
   "metadata": {},
   "outputs": [
    {
     "data": {
      "text/html": [
       "<table>\n",
       "<thead><tr><th></th><th scope=col>word</th><th scope=col>freq</th></tr></thead>\n",
       "<tbody>\n",
       "\t<tr><th scope=row>inflat</th><td>inflat  </td><td>8811    </td></tr>\n",
       "\t<tr><th scope=row>econom</th><td>econom  </td><td>7660    </td></tr>\n",
       "\t<tr><th scope=row>price</th><td>price   </td><td>7374    </td></tr>\n",
       "\t<tr><th scope=row>growth</th><td>growth  </td><td>6241    </td></tr>\n",
       "\t<tr><th scope=row>polici</th><td>polici  </td><td>5795    </td></tr>\n",
       "\t<tr><th scope=row>increas</th><td>increas </td><td>5693    </td></tr>\n",
       "\t<tr><th scope=row>project</th><td>project </td><td>5516    </td></tr>\n",
       "\t<tr><th scope=row>expect</th><td>expect  </td><td>4670    </td></tr>\n",
       "\t<tr><th scope=row>percent</th><td>percent </td><td>4658    </td></tr>\n",
       "\t<tr><th scope=row>quarter</th><td>quarter </td><td>4508    </td></tr>\n",
       "\t<tr><th scope=row>remain</th><td>remain  </td><td>4298    </td></tr>\n",
       "\t<tr><th scope=row>continu</th><td>continu </td><td>4165    </td></tr>\n",
       "\t<tr><th scope=row>declin</th><td>declin  </td><td>3667    </td></tr>\n",
       "\t<tr><th scope=row>level</th><td>level   </td><td>3588    </td></tr>\n",
       "\t<tr><th scope=row>condit</th><td>condit  </td><td>3586    </td></tr>\n",
       "\t<tr><th scope=row>period</th><td>period  </td><td>3553    </td></tr>\n",
       "\t<tr><th scope=row>rang</th><td>rang    </td><td>3422    </td></tr>\n",
       "\t<tr><th scope=row>consum</th><td>consum  </td><td>3366    </td></tr>\n",
       "\t<tr><th scope=row>risk</th><td>risk    </td><td>3191    </td></tr>\n",
       "\t<tr><th scope=row>financi</th><td>financi </td><td>3176    </td></tr>\n",
       "\t<tr><th scope=row>fund</th><td>fund    </td><td>3174    </td></tr>\n",
       "\t<tr><th scope=row>month</th><td>month   </td><td>3066    </td></tr>\n",
       "\t<tr><th scope=row>activ</th><td>activ   </td><td>3063    </td></tr>\n",
       "\t<tr><th scope=row>monetari</th><td>monetari</td><td>3008    </td></tr>\n",
       "\t<tr><th scope=row>busi</th><td>busi    </td><td>2994    </td></tr>\n",
       "\t<tr><th scope=row>labor</th><td>labor   </td><td>2981    </td></tr>\n",
       "\t<tr><th scope=row>indic</th><td>indic   </td><td>2978    </td></tr>\n",
       "\t<tr><th scope=row>pace</th><td>pace    </td><td>2893    </td></tr>\n",
       "\t<tr><th scope=row>spend</th><td>spend   </td><td>2827    </td></tr>\n",
       "\t<tr><th scope=row>like</th><td>like    </td><td>2753    </td></tr>\n",
       "</tbody>\n",
       "</table>\n"
      ],
      "text/latex": [
       "\\begin{tabular}{r|ll}\n",
       "  & word & freq\\\\\n",
       "\\hline\n",
       "\tinflat & inflat   & 8811    \\\\\n",
       "\teconom & econom   & 7660    \\\\\n",
       "\tprice & price    & 7374    \\\\\n",
       "\tgrowth & growth   & 6241    \\\\\n",
       "\tpolici & polici   & 5795    \\\\\n",
       "\tincreas & increas  & 5693    \\\\\n",
       "\tproject & project  & 5516    \\\\\n",
       "\texpect & expect   & 4670    \\\\\n",
       "\tpercent & percent  & 4658    \\\\\n",
       "\tquarter & quarter  & 4508    \\\\\n",
       "\tremain & remain   & 4298    \\\\\n",
       "\tcontinu & continu  & 4165    \\\\\n",
       "\tdeclin & declin   & 3667    \\\\\n",
       "\tlevel & level    & 3588    \\\\\n",
       "\tcondit & condit   & 3586    \\\\\n",
       "\tperiod & period   & 3553    \\\\\n",
       "\trang & rang     & 3422    \\\\\n",
       "\tconsum & consum   & 3366    \\\\\n",
       "\trisk & risk     & 3191    \\\\\n",
       "\tfinanci & financi  & 3176    \\\\\n",
       "\tfund & fund     & 3174    \\\\\n",
       "\tmonth & month    & 3066    \\\\\n",
       "\tactiv & activ    & 3063    \\\\\n",
       "\tmonetari & monetari & 3008    \\\\\n",
       "\tbusi & busi     & 2994    \\\\\n",
       "\tlabor & labor    & 2981    \\\\\n",
       "\tindic & indic    & 2978    \\\\\n",
       "\tpace & pace     & 2893    \\\\\n",
       "\tspend & spend    & 2827    \\\\\n",
       "\tlike & like     & 2753    \\\\\n",
       "\\end{tabular}\n"
      ],
      "text/markdown": [
       "\n",
       "| <!--/--> | word | freq | \n",
       "|---|---|---|---|---|---|---|---|---|---|---|---|---|---|---|---|---|---|---|---|---|---|---|---|---|---|---|---|---|---|\n",
       "| inflat | inflat   | 8811     | \n",
       "| econom | econom   | 7660     | \n",
       "| price | price    | 7374     | \n",
       "| growth | growth   | 6241     | \n",
       "| polici | polici   | 5795     | \n",
       "| increas | increas  | 5693     | \n",
       "| project | project  | 5516     | \n",
       "| expect | expect   | 4670     | \n",
       "| percent | percent  | 4658     | \n",
       "| quarter | quarter  | 4508     | \n",
       "| remain | remain   | 4298     | \n",
       "| continu | continu  | 4165     | \n",
       "| declin | declin   | 3667     | \n",
       "| level | level    | 3588     | \n",
       "| condit | condit   | 3586     | \n",
       "| period | period   | 3553     | \n",
       "| rang | rang     | 3422     | \n",
       "| consum | consum   | 3366     | \n",
       "| risk | risk     | 3191     | \n",
       "| financi | financi  | 3176     | \n",
       "| fund | fund     | 3174     | \n",
       "| month | month    | 3066     | \n",
       "| activ | activ    | 3063     | \n",
       "| monetari | monetari | 3008     | \n",
       "| busi | busi     | 2994     | \n",
       "| labor | labor    | 2981     | \n",
       "| indic | indic    | 2978     | \n",
       "| pace | pace     | 2893     | \n",
       "| spend | spend    | 2827     | \n",
       "| like | like     | 2753     | \n",
       "\n",
       "\n"
      ],
      "text/plain": [
       "         word     freq\n",
       "inflat   inflat   8811\n",
       "econom   econom   7660\n",
       "price    price    7374\n",
       "growth   growth   6241\n",
       "polici   polici   5795\n",
       "increas  increas  5693\n",
       "project  project  5516\n",
       "expect   expect   4670\n",
       "percent  percent  4658\n",
       "quarter  quarter  4508\n",
       "remain   remain   4298\n",
       "continu  continu  4165\n",
       "declin   declin   3667\n",
       "level    level    3588\n",
       "condit   condit   3586\n",
       "period   period   3553\n",
       "rang     rang     3422\n",
       "consum   consum   3366\n",
       "risk     risk     3191\n",
       "financi  financi  3176\n",
       "fund     fund     3174\n",
       "month    month    3066\n",
       "activ    activ    3063\n",
       "monetari monetari 3008\n",
       "busi     busi     2994\n",
       "labor    labor    2981\n",
       "indic    indic    2978\n",
       "pace     pace     2893\n",
       "spend    spend    2827\n",
       "like     like     2753"
      ]
     },
     "metadata": {},
     "output_type": "display_data"
    }
   ],
   "source": [
    "head(d,30)"
   ]
  },
  {
   "cell_type": "markdown",
   "metadata": {},
   "source": [
    "### Word Importance : TF-IDF"
   ]
  },
  {
   "cell_type": "code",
   "execution_count": null,
   "metadata": {
    "collapsed": true
   },
   "outputs": [],
   "source": []
  },
  {
   "cell_type": "code",
   "execution_count": 14,
   "metadata": {},
   "outputs": [
    {
     "data": {
      "text/plain": [
       "<<DocumentTermMatrix (documents: 25, terms: 4752)>>\n",
       "Non-/sparse entries: 29025/89775\n",
       "Sparsity           : 76%\n",
       "Maximal term length: 56\n",
       "Weighting          : term frequency - inverse document frequency (normalized) (tf-idf)"
      ]
     },
     "metadata": {},
     "output_type": "display_data"
    }
   ],
   "source": [
    "dtm_tfidf <- weightTfIdf(dtms) \n",
    "dtm_tfidf"
   ]
  },
  {
   "cell_type": "markdown",
   "metadata": {},
   "source": [
    "### Clustering:"
   ]
  },
  {
   "cell_type": "code",
   "execution_count": 15,
   "metadata": {},
   "outputs": [
    {
     "data": {
      "text/plain": [
       "<<DocumentTermMatrix (documents: 25, terms: 4752)>>\n",
       "Non-/sparse entries: 29025/89775\n",
       "Sparsity           : 76%\n",
       "Maximal term length: 56\n",
       "Weighting          : term frequency - inverse document frequency (normalized) (tf-idf)"
      ]
     },
     "metadata": {},
     "output_type": "display_data"
    },
    {
     "data": {
      "text/html": [
       "<ol class=list-inline>\n",
       "\t<li>25</li>\n",
       "\t<li>4243</li>\n",
       "</ol>\n"
      ],
      "text/latex": [
       "\\begin{enumerate*}\n",
       "\\item 25\n",
       "\\item 4243\n",
       "\\end{enumerate*}\n"
      ],
      "text/markdown": [
       "1. 25\n",
       "2. 4243\n",
       "\n",
       "\n"
      ],
      "text/plain": [
       "[1]   25 4243"
      ]
     },
     "metadata": {},
     "output_type": "display_data"
    }
   ],
   "source": [
    "matDTM<-as.matrix(dtms)\n",
    "tfidf<-weightTfIdf(dtms)\n",
    "tfidf# how does the sparsity increases compared to dtms?\n",
    "sparse<-removeSparseTerms(tfidf,0.995)\n",
    "s<-as.matrix(sparse); dim(s)"
   ]
  },
  {
   "cell_type": "markdown",
   "metadata": {},
   "source": [
    "##### Optimal clustmer number"
   ]
  },
  {
   "cell_type": "code",
   "execution_count": 16,
   "metadata": {},
   "outputs": [
    {
     "data": {
      "text/html": [
       "<dl class=dl-horizontal>\n",
       "\t<dt>Number_clusters</dt>\n",
       "\t\t<dd>20</dd>\n",
       "\t<dt>Value_Index</dt>\n",
       "\t\t<dd>0.6483</dd>\n",
       "</dl>\n"
      ],
      "text/latex": [
       "\\begin{description*}\n",
       "\\item[Number\\textbackslash{}\\_clusters] 20\n",
       "\\item[Value\\textbackslash{}\\_Index] 0.6483\n",
       "\\end{description*}\n"
      ],
      "text/markdown": [
       "Number_clusters\n",
       ":   20Value_Index\n",
       ":   0.6483\n",
       "\n"
      ],
      "text/plain": [
       "Number_clusters     Value_Index \n",
       "        20.0000          0.6483 "
      ]
     },
     "metadata": {},
     "output_type": "display_data"
    }
   ],
   "source": [
    "#clustering\n",
    "set.seed(123)\n",
    "res<-NbClust(data=s, min.nc = 2, max.nc = 20, distance=\"euclidean\", method=\"kmeans\", index=\"silhouette\")\n",
    "f<-fviz_nbclust(s,kmeans,method=\"silhouette\")\n",
    "res$Best.nc\n",
    "#saving\n",
    "# png('optimalCluster2.png')\n",
    "# f\n",
    "# dev.off()\n",
    "# res\n"
   ]
  },
  {
   "cell_type": "markdown",
   "metadata": {},
   "source": [
    "## NOTE: There are two optimum which are closer, check out  cluster number = 6"
   ]
  },
  {
   "cell_type": "code",
   "execution_count": 17,
   "metadata": {},
   "outputs": [
    {
     "data": {},
     "metadata": {},
     "output_type": "display_data"
    },
    {
     "data": {
      "image/png": "[encoded data removed]",
      "text/plain": [
       "plot without title"
      ]
     },
     "metadata": {},
     "output_type": "display_data"
    }
   ],
   "source": [
    "f+geom_vline(xintercept = 6, linetype = 2)+labs(subtitle = \"Silhouette method\")"
   ]
  },
  {
   "cell_type": "code",
   "execution_count": 18,
   "metadata": {},
   "outputs": [
    {
     "data": {},
     "metadata": {},
     "output_type": "display_data"
    },
    {
     "data": {
      "text/html": [
       "<strong>png:</strong> 2"
      ],
      "text/latex": [
       "\\textbf{png:} 2"
      ],
      "text/markdown": [
       "**png:** 2"
      ],
      "text/plain": [
       "png \n",
       "  2 "
      ]
     },
     "metadata": {},
     "output_type": "display_data"
    }
   ],
   "source": [
    "png(\"elbow cluster.png\")\n",
    "fviz_nbclust(s, kmeans, method = \"wss\") +\n",
    "geom_vline(xintercept = 6, linetype = 2)+\n",
    "labs(subtitle = \"Elbow method\")\n",
    "dev.off()"
   ]
  },
  {
   "cell_type": "code",
   "execution_count": 19,
   "metadata": {},
   "outputs": [
    {
     "data": {},
     "metadata": {},
     "output_type": "display_data"
    },
    {
     "data": {
      "text/html": [
       "<strong>png:</strong> 2"
      ],
      "text/latex": [
       "\\textbf{png:} 2"
      ],
      "text/markdown": [
       "**png:** 2"
      ],
      "text/plain": [
       "png \n",
       "  2 "
      ]
     },
     "metadata": {},
     "output_type": "display_data"
    }
   ],
   "source": [
    "png(\"Silhouette.png\")\n",
    "fviz_nbclust(s, kmeans, method = \"silhouette\")+labs(subtitle = \"Silhouette method\")\n",
    "# plot(prcomp(dtms)$x,col=cl_3$cluster)\n",
    "dev.off()"
   ]
  },
  {
   "cell_type": "markdown",
   "metadata": {},
   "source": [
    "# Kmeans"
   ]
  },
  {
   "cell_type": "markdown",
   "metadata": {},
   "source": [
    "prcomp: \n",
    "\n",
    "Performs a principal components analysis on the given data matrix and returns the results as an object of class prcomp.\n",
    "\n",
    "The calculation is done by a singular value decomposition of the (centered and possibly scaled) data matrix, not by using eigen on the covariance matrix. This is generally the preferred method for numerical accuracy."
   ]
  },
  {
   "cell_type": "code",
   "execution_count": 20,
   "metadata": {},
   "outputs": [
    {
     "data": {
      "text/plain": [
       "\n",
       " 1  2  3 \n",
       " 6 10  9 "
      ]
     },
     "metadata": {},
     "output_type": "display_data"
    },
    {
     "data": {
      "text/html": [
       "<strong>png:</strong> 2"
      ],
      "text/latex": [
       "\\textbf{png:} 2"
      ],
      "text/markdown": [
       "**png:** 2"
      ],
      "text/plain": [
       "png \n",
       "  2 "
      ]
     },
     "metadata": {},
     "output_type": "display_data"
    }
   ],
   "source": [
    "#--------------------------------kmeans------------------------\n",
    "set.seed(123)\n",
    "# clus<-kmeans(s,3)\n",
    "\n",
    "#wordcloud\n",
    "m <- as.matrix(tfidf)\n",
    "rownames(m) <- 1:nrow(m)\n",
    "\n",
    "norm_eucl<- function(m)m/apply(m,MARGIN=1, FUN=function(x)sum(x^2)^.5)#Normalization first\n",
    "m_norm<-norm_eucl(m)\n",
    "\n",
    "cl_3<-kmeans(m_norm,3)\n",
    "table(cl_3$cluster)\n",
    "png(\"kmeansCluster_3.png\")\n",
    "plot(prcomp(m_norm)$x, col=cl_3$cl)\n",
    "dev.off()"
   ]
  },
  {
   "cell_type": "code",
   "execution_count": 21,
   "metadata": {},
   "outputs": [
    {
     "data": {
      "text/html": [
       "13.7228141421093"
      ],
      "text/latex": [
       "13.7228141421093"
      ],
      "text/markdown": [
       "13.7228141421093"
      ],
      "text/plain": [
       "[1] 13.72281"
      ]
     },
     "metadata": {},
     "output_type": "display_data"
    }
   ],
   "source": [
    "cl_3$tot.withinss"
   ]
  },
  {
   "cell_type": "markdown",
   "metadata": {},
   "source": [
    "### Three clusters: *however we have topics more than 4?* Lets check with 6"
   ]
  },
  {
   "cell_type": "code",
   "execution_count": 22,
   "metadata": {},
   "outputs": [
    {
     "data": {
      "text/plain": [
       "\n",
       "1 2 3 4 5 6 \n",
       "3 4 6 5 3 4 "
      ]
     },
     "metadata": {},
     "output_type": "display_data"
    },
    {
     "data": {
      "text/html": [
       "<strong>png:</strong> 2"
      ],
      "text/latex": [
       "\\textbf{png:} 2"
      ],
      "text/markdown": [
       "**png:** 2"
      ],
      "text/plain": [
       "png \n",
       "  2 "
      ]
     },
     "metadata": {},
     "output_type": "display_data"
    }
   ],
   "source": [
    "#cluster numbers = 6\n",
    "m_norm<-norm_eucl(m)\n",
    "cl_6<-kmeans(m_norm,6)\n",
    "table(cl_6$cluster)\n",
    "png(\"kmeansCluster_6.png\")\n",
    "plot(prcomp(m_norm)$x, col=cl_6$cl)\n",
    "dev.off()"
   ]
  },
  {
   "cell_type": "markdown",
   "metadata": {},
   "source": [
    "### Which one to choose?\n",
    "\n",
    "There are 3 SSE- based measures that we consider: total withinSSE, betweenSSE and total SSE.\n",
    "The actual values of those measure are difficult to interpret. We will be looking at the ratio\n",
    "withinSSE/totalSSE. Total withinSSE shows how coherent (tight) are the clusters. The betweenSSE\n",
    "shows how well the clusters are separated. The total SSE is the sum. A good clustering has tight\n",
    "clusters that are well separated. So, we would like ratio withinSSE/totalSSE to be small. As we\n",
    "experiment with different representations, we should compare that ratio to see what representation\n",
    "gives better clustering"
   ]
  },
  {
   "cell_type": "code",
   "execution_count": 23,
   "metadata": {},
   "outputs": [
    {
     "data": {
      "text/html": [
       "30.7479252276099"
      ],
      "text/latex": [
       "30.7479252276099"
      ],
      "text/markdown": [
       "30.7479252276099"
      ],
      "text/plain": [
       "[1] 30.74793"
      ]
     },
     "metadata": {},
     "output_type": "display_data"
    },
    {
     "data": {
      "text/html": [
       "46.3386018552902"
      ],
      "text/latex": [
       "46.3386018552902"
      ],
      "text/markdown": [
       "46.3386018552902"
      ],
      "text/plain": [
       "[1] 46.3386"
      ]
     },
     "metadata": {},
     "output_type": "display_data"
    }
   ],
   "source": [
    "SSE_3<-100-(cl_3$tot.withinss/cl_3$totss)*100\n",
    "SSE_3\n",
    "SSE_6<-100-(cl_6$tot.withinss/cl_6$totss)*100\n",
    "SSE_6"
   ]
  },
  {
   "cell_type": "markdown",
   "metadata": {},
   "source": [
    "## LDA:"
   ]
  },
  {
   "cell_type": "code",
   "execution_count": 24,
   "metadata": {
    "collapsed": true
   },
   "outputs": [],
   "source": [
    "# svs = sort.list(abs(svd(dtms)$v[,4]), decreasing = TRUE)\n",
    "# dtms$dimnames$Terms[head(svs, 6)]"
   ]
  },
  {
   "cell_type": "code",
   "execution_count": 25,
   "metadata": {
    "collapsed": true
   },
   "outputs": [],
   "source": [
    "\n",
    "##return top words by concept\n",
    "\n",
    "##first create function to return top words; require dtms\n",
    "concept<-function(num){ \n",
    "  sv<-sort.list((svd(dtms))$v[,num],decreasing = FALSE)\n",
    "  # print(sv)\n",
    "  # print(dtms$dimnames)\n",
    "  dm<-dtms$dimnames$Terms[head(sv,5)] \n",
    "  return(dm)\n",
    "}"
   ]
  },
  {
   "cell_type": "code",
   "execution_count": 26,
   "metadata": {
    "collapsed": true
   },
   "outputs": [],
   "source": [
    "##how many words?\n",
    "num <- num_docs\n",
    "i <- 1:num\n",
    "val <- sapply(i, concept)"
   ]
  },
  {
   "cell_type": "code",
   "execution_count": 27,
   "metadata": {},
   "outputs": [
    {
     "data": {
      "text/html": [
       "<table>\n",
       "<tbody>\n",
       "\t<tr><td>inflat     </td><td>growth     </td><td>committe   </td><td>inflat     </td><td>pace       </td><td>chang      </td><td>increas    </td><td>purchas    </td><td>purchas    </td><td>market     </td><td>⋯          </td><td>rate       </td><td>market     </td><td>polici     </td><td>action     </td><td>inventori  </td><td>increas    </td><td>expans     </td><td>remain     </td><td>substanti  </td><td>busi       </td></tr>\n",
       "\t<tr><td>econom     </td><td>price      </td><td>labor      </td><td>price      </td><td>labor      </td><td>project    </td><td>growth     </td><td>financi    </td><td>labor      </td><td>demand     </td><td>⋯          </td><td>term       </td><td>domest     </td><td>increas    </td><td>lower      </td><td>price      </td><td>firm       </td><td>slow       </td><td>sale       </td><td>relat      </td><td>sector     </td></tr>\n",
       "\t<tr><td>price      </td><td>quarter    </td><td>polici     </td><td>energi     </td><td>purchas    </td><td>uncertainti</td><td>pace       </td><td>asset      </td><td>product    </td><td>labor      </td><td>⋯          </td><td>commerci   </td><td>import     </td><td>continu    </td><td>indic      </td><td>continu    </td><td>activ      </td><td>gain       </td><td>inflat     </td><td>risk       </td><td>anticip    </td></tr>\n",
       "\t<tr><td>project    </td><td>expans     </td><td>rang       </td><td>core       </td><td>inflat     </td><td>pace       </td><td>price      </td><td>hous       </td><td>pace       </td><td>rise       </td><td>⋯          </td><td>interest   </td><td>improv     </td><td>larg       </td><td>fund       </td><td>activ      </td><td>action     </td><td>treasuri   </td><td>hurrican   </td><td>overal     </td><td>domest     </td></tr>\n",
       "\t<tr><td>polici     </td><td>busi       </td><td>percent    </td><td>expect     </td><td>price      </td><td>accommod   </td><td>moder      </td><td>risk       </td><td>rise       </td><td>price      </td><td>⋯          </td><td>accommod   </td><td>chang      </td><td>inventori  </td><td>domest     </td><td>chang      </td><td>percent    </td><td>consist    </td><td>time       </td><td>effect     </td><td>rnrn       </td></tr>\n",
       "</tbody>\n",
       "</table>\n"
      ],
      "text/latex": [
       "\\begin{tabular}{lllllllllllllllllllllllll}\n",
       "\t inflat      & growth      & committe    & inflat      & pace        & chang       & increas     & purchas     & purchas     & market      & ⋯           & rate        & market      & polici      & action      & inventori   & increas     & expans      & remain      & substanti   & busi       \\\\\n",
       "\t econom      & price       & labor       & price       & labor       & project     & growth      & financi     & labor       & demand      & ⋯           & term        & domest      & increas     & lower       & price       & firm        & slow        & sale        & relat       & sector     \\\\\n",
       "\t price       & quarter     & polici      & energi      & purchas     & uncertainti & pace        & asset       & product     & labor       & ⋯           & commerci    & import      & continu     & indic       & continu     & activ       & gain        & inflat      & risk        & anticip    \\\\\n",
       "\t project     & expans      & rang        & core        & inflat      & pace        & price       & hous        & pace        & rise        & ⋯           & interest    & improv      & larg        & fund        & activ       & action      & treasuri    & hurrican    & overal      & domest     \\\\\n",
       "\t polici      & busi        & percent     & expect      & price       & accommod    & moder       & risk        & rise        & price       & ⋯           & accommod    & chang       & inventori   & domest      & chang       & percent     & consist     & time        & effect      & rnrn       \\\\\n",
       "\\end{tabular}\n"
      ],
      "text/markdown": [
       "\n",
       "| inflat      | growth      | committe    | inflat      | pace        | chang       | increas     | purchas     | purchas     | market      | ⋯           | rate        | market      | polici      | action      | inventori   | increas     | expans      | remain      | substanti   | busi        | \n",
       "| econom      | price       | labor       | price       | labor       | project     | growth      | financi     | labor       | demand      | ⋯           | term        | domest      | increas     | lower       | price       | firm        | slow        | sale        | relat       | sector      | \n",
       "| price       | quarter     | polici      | energi      | purchas     | uncertainti | pace        | asset       | product     | labor       | ⋯           | commerci    | import      | continu     | indic       | continu     | activ       | gain        | inflat      | risk        | anticip     | \n",
       "| project     | expans      | rang        | core        | inflat      | pace        | price       | hous        | pace        | rise        | ⋯           | interest    | improv      | larg        | fund        | activ       | action      | treasuri    | hurrican    | overal      | domest      | \n",
       "| polici      | busi        | percent     | expect      | price       | accommod    | moder       | risk        | rise        | price       | ⋯           | accommod    | chang       | inventori   | domest      | chang       | percent     | consist     | time        | effect      | rnrn        | \n",
       "\n",
       "\n"
      ],
      "text/plain": [
       "     [,1]    [,2]    [,3]     [,4]   [,5]    [,6]        [,7]    [,8]   \n",
       "[1,] inflat  growth  committe inflat pace    chang       increas purchas\n",
       "[2,] econom  price   labor    price  labor   project     growth  financi\n",
       "[3,] price   quarter polici   energi purchas uncertainti pace    asset  \n",
       "[4,] project expans  rang     core   inflat  pace        price   hous   \n",
       "[5,] polici  busi    percent  expect price   accommod    moder   risk   \n",
       "     [,9]    [,10]  [,11] [,12]    [,13]  [,14]     [,15]  [,16]     [,17]  \n",
       "[1,] purchas market ⋯     rate     market polici    action inventori increas\n",
       "[2,] labor   demand ⋯     term     domest increas   lower  price     firm   \n",
       "[3,] product labor  ⋯     commerci import continu   indic  continu   activ  \n",
       "[4,] pace    rise   ⋯     interest improv larg      fund   activ     action \n",
       "[5,] rise    price  ⋯     accommod chang  inventori domest chang     percent\n",
       "     [,18]    [,19]    [,20]     [,21]  \n",
       "[1,] expans   remain   substanti busi   \n",
       "[2,] slow     sale     relat     sector \n",
       "[3,] gain     inflat   risk      anticip\n",
       "[4,] treasuri hurrican overal    domest \n",
       "[5,] consist  time     effect    rnrn   "
      ]
     },
     "metadata": {},
     "output_type": "display_data"
    }
   ],
   "source": [
    "val"
   ]
  },
  {
   "cell_type": "code",
   "execution_count": 28,
   "metadata": {},
   "outputs": [],
   "source": [
    "# library(ggplot2)\n",
    "# ii <- 2000:2011\n",
    "# ss <- rnorm(12,0,1)\n",
    "# pm <- data.frame(ii,ss)\n",
    "# tmpplot <- ggplot(pm, aes(x = ii, y = ss))\n",
    "# plot <- tmpplot + geom_line() + scale_x_continuous(breaks=seq(2000,2011, 0.5))\n",
    "# plot "
   ]
  },
  {
   "cell_type": "code",
   "execution_count": 29,
   "metadata": {
    "collapsed": true
   },
   "outputs": [],
   "source": [
    "#Set parameters for Gibbs sampling\n",
    "burnin = 4000\n",
    "iter = 2000\n",
    "thin = 500\n",
    "seed = list(2003,5,63,100001,765)\n",
    "nstart = 5\n",
    "best = TRUE\n",
    "\n",
    "#Number of topics\n",
    "k = 3"
   ]
  },
  {
   "cell_type": "code",
   "execution_count": 30,
   "metadata": {
    "collapsed": true
   },
   "outputs": [],
   "source": [
    "# write.table(val,file=paste(\"/home/harish/PycharmProjects/Topic-Modeling/val.csv\"), append = T)\n",
    "# ldaGibbs5@gamma"
   ]
  },
  {
   "cell_type": "code",
   "execution_count": 31,
   "metadata": {
    "collapsed": true
   },
   "outputs": [],
   "source": [
    "# ##how many words?\n",
    "# num <- 5\n",
    "# i <- 1:num\n",
    "# sapply(i, concept)\n",
    "# # https://stackoverflow.com/questions/14875493/lda-with-topicmodels-how-can-i-see-which-topics-different-documents-belong-to\n"
   ]
  },
  {
   "cell_type": "code",
   "execution_count": 32,
   "metadata": {
    "collapsed": true
   },
   "outputs": [],
   "source": [
    "# k=5\n",
    "# ldaGibbs5 <-LDA(dtms, k, method = \"Gibbs\") \n",
    "# #docs to topics \n",
    "# ldaGibbs5.topics <- as.matrix(topics(ldaGibbs5))\n",
    "# #get probability of each topic in each doc\n",
    "# topicProbabilities <- as.data.frame(ldaGibbs5@gamma)"
   ]
  },
  {
   "cell_type": "code",
   "execution_count": 33,
   "metadata": {
    "collapsed": true
   },
   "outputs": [],
   "source": [
    "# topicProbabilities\n",
    "# nrow(ldaGibbs5@gamma)"
   ]
  },
  {
   "cell_type": "code",
   "execution_count": 34,
   "metadata": {
    "collapsed": true
   },
   "outputs": [],
   "source": [
    "# vector <- NULL\n",
    "# for(i in 1:nrow(ldaGibbs5@gamma)) {\n",
    "#   vector <- c(vector, ldaGibbs5@gamma[i,])\n",
    "# }\n",
    "\n",
    "\n",
    "# Concepts <- rep(c(\"Concept 1\",\"Concept 2\",\"Concept 3\", \"Concept 4\",\"Concept 5\"),times=102)#why 80?\n",
    "# TimeByDocs <- as.numeric(rep(1:102,each=5))\n",
    "# chartdata <- data.frame(Concepts,TimeByDocs,vector)\n",
    "# myplot <- ggplot(chartdata, aes(x=TimeByDocs,y=vector,fill=Concepts)) + geom_area()\n"
   ]
  },
  {
   "cell_type": "code",
   "execution_count": 35,
   "metadata": {
    "collapsed": true
   },
   "outputs": [],
   "source": [
    "# ggsave(filename=\"myPlot.png\", plot=myplot)"
   ]
  },
  {
   "cell_type": "code",
   "execution_count": 36,
   "metadata": {
    "collapsed": true
   },
   "outputs": [],
   "source": [
    "# l<-c()\n",
    "# i <- 0\n",
    "# for (j in 1993:2005){\n",
    "#    l[i] <- j\n",
    "#     i <- i + 1\n",
    "# }"
   ]
  },
  {
   "cell_type": "code",
   "execution_count": 52,
   "metadata": {},
   "outputs": [
    {
     "name": "stderr",
     "output_type": "stream",
     "text": [
      "Saving 6.67 x 6.67 in image\n"
     ]
    }
   ],
   "source": [
    "##how many words?\n",
    "# for (k in 2:5){\n",
    "k = 6\n",
    "#     num <- num_docs\n",
    "#     i <- 1:num\n",
    "#     val <- sapply(i, concept)\n",
    "    # https://stackoverflow.com/questions/14875493/lda-with-topicmodels-how-can-i-see-which-topics-different-documents-belong-to\n",
    "    \n",
    "\n",
    "    ldaGibbs_k <-LDA(dtms, k, method = \"Gibbs\")\n",
    "    #docs to topics \n",
    "#     ldaGibbs_k.topics <- as.matrix(topics(ldaGibbs_k))\n",
    "#     #get probability of each topic in each doc\n",
    "#     topicProbabilities <- as.data.frame(ldaGibbs_k@gamma)\n",
    "# write.table(val,file=paste(\"/home/harish/PycharmProjects/Topic-Modeling/val.csv\"), append = T)\n",
    "\n",
    "    vector <- NULL\n",
    "    for(i in 1:nrow(ldaGibbs_k@gamma)) {\n",
    "      vector <- c(vector, ldaGibbs_k@gamma[i,])\n",
    "    }\n",
    "\n",
    "\n",
    "    Concepts <- rep(c(\"Concept 1\",\"Concept 2\",\"Concept 3\",\"Concept 4\",\"Concept 5\",\"Concept 6\"),times=num_docs)\n",
    "#     TimeByDocs <- as.numeric(rep(c(\"1993\",\"1994\",\"1995\",\"1996\",\"1997\",\"1998\",\"1999\",\"2000\",\"2001\",\"2002\",\"2003\",\"2004\",\n",
    "#                                    \"2005\",\"2006\",\"2007\",\"2008\",\"2009\",\"2010\",\"2011\",\"2012\",\"2013\",\"2014\",\"2015\",\"2016\",\"2017\"),each=k))\n",
    "    \n",
    "TimeByDocs <- as.numeric(rep(1993:2017,each=k))\n",
    "chartdata <- data.frame(Concepts,TimeByDocs,vector)\n",
    "    myplot <- ggplot(chartdata, aes(x=TimeByDocs,y=vector,fill=Concepts)) + geom_area()\n",
    "    plotname <- paste(k,\"png\", sep=\".\");\n",
    "    ggsave(filename=plotname, plot=myplot)\n",
    "    \n",
    "# }"
   ]
  },
  {
   "cell_type": "code",
   "execution_count": 56,
   "metadata": {},
   "outputs": [
    {
     "data": {},
     "metadata": {},
     "output_type": "display_data"
    },
    {
     "data": {
      "image/png": "[encoded data removed]",
      "text/plain": [
       "plot without title"
      ]
     },
     "metadata": {},
     "output_type": "display_data"
    }
   ],
   "source": [
    "ii <- 1993:2017\n",
    "\n",
    "TimeByDocs <- as.numeric(rep(1993:2017,each=k))\n",
    "plot <- ggplot(chartdata, aes(x=TimeByDocs,y=vector,fill=Concepts)) + geom_area() + scale_x_continuous(breaks=seq(1993,2017, 2))\n",
    "plot "
   ]
  },
  {
   "cell_type": "code",
   "execution_count": 39,
   "metadata": {
    "collapsed": true
   },
   "outputs": [],
   "source": [
    "# Concepts <- rep(c(\"Concept 1\",\"Concept 2\",\"Concept 3\", \"Concept 4\",\"Concept 5\"),times=102)#why 80?\n",
    "#     TimeByDocs <- as.numeric(rep(c(\"1993\",\"1994\",\"1995\",\"1996\",\"1997\",\"1998\",\"1999\",\n",
    "#                                    \"2000\",\"2001\",\"2002\",\"2003\",\"2004\",\"2005\"),each=k))\n",
    "#     chartdata <- data.frame(Concepts,TimeByDocs,vector)\n",
    "#     myplot <- ggplot(chartdata, aes(x=TimeByDocs,y=vector,fill=Concepts)) + geom_area()\n",
    "# myplot"
   ]
  },
  {
   "cell_type": "code",
   "execution_count": 40,
   "metadata": {},
   "outputs": [
    {
     "name": "stderr",
     "output_type": "stream",
     "text": [
      "Warning message in write.table(topicProbabilities, file = paste(\"/home/harish/PycharmProjects/Topic-Modeling/val.csv\"), :\n",
      "“appending column names to file”"
     ]
    }
   ],
   "source": [
    "\n",
    "write.table(topicProbabilities,file=paste(\"/home/harish/PycharmProjects/Topic-Modeling/val.csv\"), append = T)"
   ]
  },
  {
   "cell_type": "code",
   "execution_count": 41,
   "metadata": {},
   "outputs": [
    {
     "data": {
      "text/html": [
       "<table>\n",
       "<tbody>\n",
       "\t<tr><td>0.22673827</td><td>0.06373943</td><td>0.7095223 </td></tr>\n",
       "\t<tr><td>0.20590906</td><td>0.03664560</td><td>0.7574453 </td></tr>\n",
       "\t<tr><td>0.18881961</td><td>0.05283386</td><td>0.7583465 </td></tr>\n",
       "\t<tr><td>0.09451159</td><td>0.01798891</td><td>0.8874995 </td></tr>\n",
       "\t<tr><td>0.08819873</td><td>0.01495792</td><td>0.8968433 </td></tr>\n",
       "\t<tr><td>0.15717893</td><td>0.01913781</td><td>0.8236833 </td></tr>\n",
       "\t<tr><td>0.27256954</td><td>0.03004550</td><td>0.6973850 </td></tr>\n",
       "\t<tr><td>0.42527278</td><td>0.03192817</td><td>0.5427990 </td></tr>\n",
       "\t<tr><td>0.55193347</td><td>0.02492959</td><td>0.4231369 </td></tr>\n",
       "\t<tr><td>0.57353547</td><td>0.03114495</td><td>0.3953196 </td></tr>\n",
       "</tbody>\n",
       "</table>\n"
      ],
      "text/latex": [
       "\\begin{tabular}{lll}\n",
       "\t 0.22673827 & 0.06373943 & 0.7095223 \\\\\n",
       "\t 0.20590906 & 0.03664560 & 0.7574453 \\\\\n",
       "\t 0.18881961 & 0.05283386 & 0.7583465 \\\\\n",
       "\t 0.09451159 & 0.01798891 & 0.8874995 \\\\\n",
       "\t 0.08819873 & 0.01495792 & 0.8968433 \\\\\n",
       "\t 0.15717893 & 0.01913781 & 0.8236833 \\\\\n",
       "\t 0.27256954 & 0.03004550 & 0.6973850 \\\\\n",
       "\t 0.42527278 & 0.03192817 & 0.5427990 \\\\\n",
       "\t 0.55193347 & 0.02492959 & 0.4231369 \\\\\n",
       "\t 0.57353547 & 0.03114495 & 0.3953196 \\\\\n",
       "\\end{tabular}\n"
      ],
      "text/markdown": [
       "\n",
       "| 0.22673827 | 0.06373943 | 0.7095223  | \n",
       "| 0.20590906 | 0.03664560 | 0.7574453  | \n",
       "| 0.18881961 | 0.05283386 | 0.7583465  | \n",
       "| 0.09451159 | 0.01798891 | 0.8874995  | \n",
       "| 0.08819873 | 0.01495792 | 0.8968433  | \n",
       "| 0.15717893 | 0.01913781 | 0.8236833  | \n",
       "| 0.27256954 | 0.03004550 | 0.6973850  | \n",
       "| 0.42527278 | 0.03192817 | 0.5427990  | \n",
       "| 0.55193347 | 0.02492959 | 0.4231369  | \n",
       "| 0.57353547 | 0.03114495 | 0.3953196  | \n",
       "\n",
       "\n"
      ],
      "text/plain": [
       "      [,1]       [,2]       [,3]     \n",
       " [1,] 0.22673827 0.06373943 0.7095223\n",
       " [2,] 0.20590906 0.03664560 0.7574453\n",
       " [3,] 0.18881961 0.05283386 0.7583465\n",
       " [4,] 0.09451159 0.01798891 0.8874995\n",
       " [5,] 0.08819873 0.01495792 0.8968433\n",
       " [6,] 0.15717893 0.01913781 0.8236833\n",
       " [7,] 0.27256954 0.03004550 0.6973850\n",
       " [8,] 0.42527278 0.03192817 0.5427990\n",
       " [9,] 0.55193347 0.02492959 0.4231369\n",
       "[10,] 0.57353547 0.03114495 0.3953196"
      ]
     },
     "metadata": {},
     "output_type": "display_data"
    }
   ],
   "source": [
    "ldaGibbs_k@gamma[1:10,]\n"
   ]
  },
  {
   "cell_type": "code",
   "execution_count": 42,
   "metadata": {},
   "outputs": [
    {
     "data": {
      "text/html": [
       "<table>\n",
       "<tbody>\n",
       "\t<tr><td> -7.533622</td><td>-14.47191 </td><td> -7.737315</td><td>-7.725494 </td><td> -9.856786</td><td>-14.471907</td><td> -9.073744</td><td> -6.812264</td><td> -9.856786</td><td> -8.382862</td><td>⋯         </td><td>-14.471907</td><td>-14.47191 </td><td>-14.47191 </td><td>-14.47191 </td><td>-14.47191 </td><td>-14.471907</td><td>-14.47191 </td><td>-14.47191 </td><td>-14.471907</td><td>-14.471907</td></tr>\n",
       "\t<tr><td>-14.823546</td><td>-11.77902 </td><td> -9.185191</td><td>-7.426597 </td><td>-10.891720</td><td> -7.289318</td><td>-14.823546</td><td>-14.823546</td><td>-14.823546</td><td>-10.114016</td><td>⋯         </td><td> -9.471688</td><td>-10.89172 </td><td>-11.77902 </td><td>-11.38956 </td><td>-11.77902 </td><td> -9.471688</td><td>-10.71267 </td><td>-11.38956 </td><td> -9.471688</td><td> -9.471688</td></tr>\n",
       "\t<tr><td>-10.705657</td><td>-14.13964 </td><td>-11.095122</td><td>-7.846225 </td><td>-14.139644</td><td> -7.347300</td><td> -9.343854</td><td> -6.852768</td><td> -6.331321</td><td>-14.139644</td><td>⋯         </td><td>-14.139644</td><td>-14.13964 </td><td>-14.13964 </td><td>-14.13964 </td><td>-14.13964 </td><td>-14.139644</td><td>-14.13964 </td><td>-14.13964 </td><td>-14.139644</td><td>-14.139644</td></tr>\n",
       "</tbody>\n",
       "</table>\n"
      ],
      "text/latex": [
       "\\begin{tabular}{llllllllllllllllllllllllllllllllllllllllllllllllllllllllllllllllllllllllllllllllllllllllllllllllllllllllllllllllllllllllllllllllllllllllllllllllllllllllllllllllllllllllllllllllllllllllllllllllllllllllllllllllllllllllllllllllllllllllllllllllllllllllllllllllllllllllllllllllllllllllllllllllllllllllllllllllllllllllllllllllllllllllllllllllllllllllllllllllllllllllllllllllllllllllllllllllllllllllllllllllllllllllllllllllllllllllllllllllllllllllllllllllllllllllllllllllllllllllllllllllllllllllllllllllllllllllllllllllllllllllllllllllllllllllllllllllllllllllllllllllllllllllllllllllllllllllllllllllllllllllllllllllllllllllllllllllllllllllllllllllllllllllllllllllllllllllllllllllllllllllllllllllllllllllllllllllllllllllllllllllllllllllllllllllllllllllllllllllllllllllllllllllllllllllllllllllllllllllllllllllllllllllllllllllllllllllllllllllllllllllllllllllllllllllllllllllllllllllllllllllllllllllllllllllllllllllllllllllllllllllllllllllllllllllllllllllllllllllllllllllllllllllllllllllllllllllllllllllllllllllllllllllllllllllllllllllllllllllllllllllllllllllllllllllllllllllllllllllllllllllllllllllllllllllllllllllllllllllllllllllllllllllllllllllllllllllllllllllllllllllllllllllllllllllllllllllllllllllllllllllllllllllllllllllllllllllllllllllllllllllllllllllllllllllllllllllllllllllllllllllllllllllllllllllllllllllllllllllllllllllllllllllllllllllllllllllllllllllllllllllllllllllllllllllllllllllllllllllllllllllllllllllllllllllllllllllllllllllllllllllllllllllllllllllllllllllllllllllllllllllllllllllllllllllllllllllllllllllllllllllllllllllllllllllllllllllllllllllllllllllllllllllllllllllllllllllllllllllllllllllllllllllllllllllllllllllllllllllllllllllllllllllllllllllllllllllllllllllllllllllllllllllllllllllllllllllllllllllllllllllllllllllllllllllllllllllllllllllllllllllllllllllllllllllllllllllllllllllllllllllllllllllllllllllllllllllllllllllllllllllllllllllllllllllllllllllllllllllllllllllllllllllllllllllllllllllllllllllllllllllllllllllllllllllllllllllllllllllllllllllllllllllllllllllllllllllllllllllllllllllllllllllllllllllllllllllllllllllllllllllllllllllllllllllllllllllllllllllllllllllllllllllllllllllllllllllllllllllllllllllllllllllllllllllllllllllllllllllllllllllllllllllllllllllllllllllllllllllllllllllllllllllllllllllllllllllllllllllllllllllllllllllllllllllllllllllllllllllllllllllllllllllllllllllllllllllllllllllllllllllllllllllllllllllllllllllllllllllllllllllllllllllllllllllllllllllllllllllllllllllllllllllllllllllllllllllllllllllllllllllllllllllllllllllllllllllllllllllllllllllllllllllllllllllllllllllllllllllllllllllllllllllllllllllllllllllllllllllllllllllllllllllllllllllllllllllllllllllllllllllllllllllllllllllllllllllllllllllllllllllllllllllllllllllllllllllllllllllllllllllllllllllllllllllllllllllllllllllllllllllllllllllllllllllllllllllllllllllllllllllllllllllllllllllllllllllllllllllllllllllllllllllllllllllllllllllllllllllllllllllllllllllllllllllllllllllllllllllllllllllllllllllllllllllllllllllllllllllllllllllllllllllllllllllllllllllllllllllllllllllllllllllllllllllllllllllllllllllllllllllllllllllllllllllllllllllllllllllllllllllllllllllllllllllllllllllllllllllllllllllllllllllllllllllllllllllllllllllllllllllllllllllllllllllllllllllllllllllllllllllllllllllllllllllllllllllllllllllllllllllllllllllllllllllllllllllllllllllllllllllllllllllllllllllllllllllllllllllllllllllllllllllllllllllllllllllllllllllllllllllllllllllllllllllllllllllllllllllllllllllllllllllllllllllllllllllllllllllllllllllllllllllllllllllllllllllllllllllllllllllllllllllllllllllllllllllllllllllllllllllllllllllllllllllllllllllllllllllllllllllllllllllllllllllllllllllllllllllllllllllllllllllllllllllllllllllllllllllllllllllllllllllllllllllllllllllllllllllllllllllllllllllllllllllllllllllllllllllllllllllllllllllllllllllllllllllllllllllllllllllllllllllllllllllllllllllllllllllllllllllllllllllllllllllllllllllllllllllllllllllllllllllllllllllllllllllllllllllllllllllllllllllllllllllllllllllllllllllllllllllllllllllllllllllllllllllllllllllllllllllllllllllllllllllllllllllllllllllllllllllllllllllllllllllllllllllllllllllllllllllllllllllllllllllllllllllllllllllllllllllllllllllllllllllllllllllllllllllllllllllllllllllllllllllllllllllllllllllllllllllllllllllllllllllllllllllllllllllllllllllllllllllllllllllllllllllllllllllllllllllllllllllllllllllllllllllllllllllllllllllllllllllllllllllllllllllllllllllllllllllllllllllllllllllllllllllllllllllllllllllllllllllllllllllllllllllllllllllllllllllllllllllllllllllllllllllllllllllllllllllllllllllllllllllllllllllllllllllllllllllllllllllllllllllllllllllllllllllllllllllllllllllllllllllllllllllllllllllllllllllllllllllllllllllllllllllllllllllllllllllllllllllllllllllllllllllllllllllllllllllllllllllllllllllllllllllllllllllllllllllllllllllllllllllllllllllllllllllllllllllllllllllllllllllllllllllllllllllllllllllllllllllllllllllllllllllllllllll}\n",
       "\t  -7.533622 & -14.47191  &  -7.737315 & -7.725494  &  -9.856786 & -14.471907 &  -9.073744 &  -6.812264 &  -9.856786 &  -8.382862 & ⋯          & -14.471907 & -14.47191  & -14.47191  & -14.47191  & -14.47191  & -14.471907 & -14.47191  & -14.47191  & -14.471907 & -14.471907\\\\\n",
       "\t -14.823546 & -11.77902  &  -9.185191 & -7.426597  & -10.891720 &  -7.289318 & -14.823546 & -14.823546 & -14.823546 & -10.114016 & ⋯          &  -9.471688 & -10.89172  & -11.77902  & -11.38956  & -11.77902  &  -9.471688 & -10.71267  & -11.38956  &  -9.471688 &  -9.471688\\\\\n",
       "\t -10.705657 & -14.13964  & -11.095122 & -7.846225  & -14.139644 &  -7.347300 &  -9.343854 &  -6.852768 &  -6.331321 & -14.139644 & ⋯          & -14.139644 & -14.13964  & -14.13964  & -14.13964  & -14.13964  & -14.139644 & -14.13964  & -14.13964  & -14.139644 & -14.139644\\\\\n",
       "\\end{tabular}\n"
      ],
      "text/markdown": [
       "\n",
       "|  -7.533622 | -14.47191  |  -7.737315 | -7.725494  |  -9.856786 | -14.471907 |  -9.073744 |  -6.812264 |  -9.856786 |  -8.382862 | ⋯          | -14.471907 | -14.47191  | -14.47191  | -14.47191  | -14.47191  | -14.471907 | -14.47191  | -14.47191  | -14.471907 | -14.471907 | \n",
       "| -14.823546 | -11.77902  |  -9.185191 | -7.426597  | -10.891720 |  -7.289318 | -14.823546 | -14.823546 | -14.823546 | -10.114016 | ⋯          |  -9.471688 | -10.89172  | -11.77902  | -11.38956  | -11.77902  |  -9.471688 | -10.71267  | -11.38956  |  -9.471688 |  -9.471688 | \n",
       "| -10.705657 | -14.13964  | -11.095122 | -7.846225  | -14.139644 |  -7.347300 |  -9.343854 |  -6.852768 |  -6.331321 | -14.139644 | ⋯          | -14.139644 | -14.13964  | -14.13964  | -14.13964  | -14.13964  | -14.139644 | -14.13964  | -14.13964  | -14.139644 | -14.139644 | \n",
       "\n",
       "\n"
      ],
      "text/plain": [
       "     [,1]       [,2]      [,3]       [,4]      [,5]       [,6]       [,7]      \n",
       "[1,]  -7.533622 -14.47191  -7.737315 -7.725494  -9.856786 -14.471907  -9.073744\n",
       "[2,] -14.823546 -11.77902  -9.185191 -7.426597 -10.891720  -7.289318 -14.823546\n",
       "[3,] -10.705657 -14.13964 -11.095122 -7.846225 -14.139644  -7.347300  -9.343854\n",
       "     [,8]       [,9]       [,10]      [,11] [,12]      [,13]     [,14]    \n",
       "[1,]  -6.812264  -9.856786  -8.382862 ⋯     -14.471907 -14.47191 -14.47191\n",
       "[2,] -14.823546 -14.823546 -10.114016 ⋯      -9.471688 -10.89172 -11.77902\n",
       "[3,]  -6.852768  -6.331321 -14.139644 ⋯     -14.139644 -14.13964 -14.13964\n",
       "     [,15]     [,16]     [,17]      [,18]     [,19]     [,20]      [,21]     \n",
       "[1,] -14.47191 -14.47191 -14.471907 -14.47191 -14.47191 -14.471907 -14.471907\n",
       "[2,] -11.38956 -11.77902  -9.471688 -10.71267 -11.38956  -9.471688  -9.471688\n",
       "[3,] -14.13964 -14.13964 -14.139644 -14.13964 -14.13964 -14.139644 -14.139644"
      ]
     },
     "metadata": {},
     "output_type": "display_data"
    }
   ],
   "source": [
    "ldaGibbs_k@beta"
   ]
  },
  {
   "cell_type": "code",
   "execution_count": 43,
   "metadata": {
    "collapsed": true
   },
   "outputs": [],
   "source": [
    "# dtms$dimnames$Terms"
   ]
  },
  {
   "cell_type": "code",
   "execution_count": 44,
   "metadata": {},
   "outputs": [
    {
     "data": {
      "text/html": [
       "<table>\n",
       "<thead><tr><th scope=col>Topic 1</th><th scope=col>Topic 2</th><th scope=col>Topic 3</th></tr></thead>\n",
       "<tbody>\n",
       "\t<tr><td>price  </td><td>inflat </td><td>growth </td></tr>\n",
       "\t<tr><td>inflat </td><td>project</td><td>price  </td></tr>\n",
       "\t<tr><td>econom </td><td>econom </td><td>increas</td></tr>\n",
       "\t<tr><td>growth </td><td>percent</td><td>polici </td></tr>\n",
       "\t<tr><td>increas</td><td>polici </td><td>econom </td></tr>\n",
       "\t<tr><td>quarter</td><td>expect </td><td>period </td></tr>\n",
       "\t<tr><td>remain </td><td>price  </td><td>quarter</td></tr>\n",
       "\t<tr><td>spend  </td><td>rang   </td><td>expans </td></tr>\n",
       "\t<tr><td>consum </td><td>fund   </td><td>rang   </td></tr>\n",
       "\t<tr><td>continu</td><td>increas</td><td>month  </td></tr>\n",
       "</tbody>\n",
       "</table>\n"
      ],
      "text/latex": [
       "\\begin{tabular}{lll}\n",
       " Topic 1 & Topic 2 & Topic 3\\\\\n",
       "\\hline\n",
       "\t price   & inflat  & growth \\\\\n",
       "\t inflat  & project & price  \\\\\n",
       "\t econom  & econom  & increas\\\\\n",
       "\t growth  & percent & polici \\\\\n",
       "\t increas & polici  & econom \\\\\n",
       "\t quarter & expect  & period \\\\\n",
       "\t remain  & price   & quarter\\\\\n",
       "\t spend   & rang    & expans \\\\\n",
       "\t consum  & fund    & rang   \\\\\n",
       "\t continu & increas & month  \\\\\n",
       "\\end{tabular}\n"
      ],
      "text/markdown": [
       "\n",
       "Topic 1 | Topic 2 | Topic 3 | \n",
       "|---|---|---|---|---|---|---|---|---|---|\n",
       "| price   | inflat  | growth  | \n",
       "| inflat  | project | price   | \n",
       "| econom  | econom  | increas | \n",
       "| growth  | percent | polici  | \n",
       "| increas | polici  | econom  | \n",
       "| quarter | expect  | period  | \n",
       "| remain  | price   | quarter | \n",
       "| spend   | rang    | expans  | \n",
       "| consum  | fund    | rang    | \n",
       "| continu | increas | month   | \n",
       "\n",
       "\n"
      ],
      "text/plain": [
       "      Topic 1 Topic 2 Topic 3\n",
       " [1,] price   inflat  growth \n",
       " [2,] inflat  project price  \n",
       " [3,] econom  econom  increas\n",
       " [4,] growth  percent polici \n",
       " [5,] increas polici  econom \n",
       " [6,] quarter expect  period \n",
       " [7,] remain  price   quarter\n",
       " [8,] spend   rang    expans \n",
       " [9,] consum  fund    rang   \n",
       "[10,] continu increas month  "
      ]
     },
     "metadata": {},
     "output_type": "display_data"
    }
   ],
   "source": [
    "lda.terms <- as.matrix(terms(ldaGibbs_k, 10))\n",
    "lda.terms"
   ]
  },
  {
   "cell_type": "code",
   "execution_count": 45,
   "metadata": {},
   "outputs": [
    {
     "data": {
      "text/html": [
       "2000"
      ],
      "text/latex": [
       "2000"
      ],
      "text/markdown": [
       "2000"
      ],
      "text/plain": [
       "[1] 2000"
      ]
     },
     "metadata": {},
     "output_type": "display_data"
    }
   ],
   "source": [
    "length(terms(ldaGibbs_k, 2000)[,1])# First column how many terms in topic; 1858 not 2000"
   ]
  },
  {
   "cell_type": "markdown",
   "metadata": {
    "collapsed": true
   },
   "source": [
    "# LSA"
   ]
  },
  {
   "cell_type": "code",
   "execution_count": 46,
   "metadata": {},
   "outputs": [
    {
     "ename": "ERROR",
     "evalue": "Error in single_val_d$u[, 1:dim]: subscript out of bounds\n",
     "output_type": "error",
     "traceback": [
      "Error in single_val_d$u[, 1:dim]: subscript out of bounds\nTraceback:\n",
      "1. reduce(dtms, 50)",
      "2. as.matrix(single_val_d$u[, 1:dim])   # at line 5 of file <text>"
     ]
    }
   ],
   "source": [
    "#LSA\n",
    "reduce <-function(A,dim) {\n",
    "#Calculates the SVD\n",
    "single_val_d <-svd(A) #Approximate each result of SVD with the given dimension\n",
    "u<-as.matrix(single_val_d$u[, 1:dim])\n",
    "v<-as.matrix(single_val_d$v[, 1:dim])\n",
    "d<-as.matrix(diag(single_val_d$d)[1:dim, 1:dim])\n",
    "\n",
    "#Create the new approximated matrix\n",
    "return(as.matrix(u%*%d%*%t(v),type='blue'))\n",
    "}\n",
    "#50\n",
    "reduce_50 <-reduce(dtms,50)"
   ]
  },
  {
   "cell_type": "code",
   "execution_count": null,
   "metadata": {},
   "outputs": [],
   "source": [
    "sing <-svd(dtms)\n",
    "diag(sing$d)[1:6,]"
   ]
  },
  {
   "cell_type": "code",
   "execution_count": null,
   "metadata": {},
   "outputs": [],
   "source": [
    "sv = sort.list(abs(sing$v[,6]), decreasing = TRUE)\n",
    "dtms$dimnames$Terms[head(sv, 5)]"
   ]
  },
  {
   "cell_type": "code",
   "execution_count": null,
   "metadata": {},
   "outputs": [],
   "source": [
    "ldaGibbs_k"
   ]
  },
  {
   "cell_type": "markdown",
   "metadata": {},
   "source": [
    "## Visualization"
   ]
  },
  {
   "cell_type": "code",
   "execution_count": null,
   "metadata": {},
   "outputs": [],
   "source": [
    "library(stringr)\n",
    "library(text2vec)\n"
   ]
  },
  {
   "cell_type": "code",
   "execution_count": null,
   "metadata": {
    "collapsed": true
   },
   "outputs": [],
   "source": [
    "#LSA:\n",
    "lsa = LSA$new(n_topics = 6)"
   ]
  },
  {
   "cell_type": "code",
   "execution_count": null,
   "metadata": {},
   "outputs": [],
   "source": [
    "lsa$fit_transform(dtm)"
   ]
  },
  {
   "cell_type": "code",
   "execution_count": null,
   "metadata": {},
   "outputs": [],
   "source": [
    "lsa$transform(dtm)\n"
   ]
  },
  {
   "cell_type": "code",
   "execution_count": null,
   "metadata": {},
   "outputs": [],
   "source": [
    "lsa$components"
   ]
  },
  {
   "cell_type": "markdown",
   "metadata": {},
   "source": [
    "#### Creating Latent space:\n",
    "https://www.rdocumentation.org/packages/lsa/versions/0.73.1/topics/lsa"
   ]
  },
  {
   "cell_type": "code",
   "execution_count": null,
   "metadata": {},
   "outputs": [],
   "source": [
    "# create some files\n",
    "td = tempfile()\n",
    "dir.create(td)\n",
    "write( c(\"dog\", \"cat\", \"mouse\"), file=paste(td, \"D1\", sep=\"/\") )\n",
    "write( c(\"ham\", \"mouse\", \"sushi\"), file=paste(td, \"D2\", sep=\"/\") )\n",
    "write( c(\"dog\", \"pet\", \"pet\"), file=paste(td, \"D3\", sep=\"/\") )\n",
    "\n",
    "# LSA\n",
    "data(stopwords_en)\n",
    "myMatrix = textmatrix(td, stopwords=stopwords_en)\n",
    "myMatrix = lw_logtf(myMatrix) * gw_idf(myMatrix)\n",
    "myLSAspace = lsa(myMatrix, dims=dimcalc_share())\n",
    "as.textmatrix(myLSAspace)\n"
   ]
  },
  {
   "cell_type": "code",
   "execution_count": null,
   "metadata": {},
   "outputs": [],
   "source": [
    "### Vector mapping:\n",
    "words_to_remove_in_article<-c(\"system\",\"reserve\",\"tthe\",\"rnthe\",\"participants\", \"continue\", \"open\",\"committee\", \"federal\", \"also\", \"meeting\", \"FOMC\", \"\\r\",\"\\t\",\"Present\", \"\\n\", 'year') #irrevalant words\n",
    "\n",
    "#buildt dtm\n",
    "lsatextmatrix <- textmatrix(mydir = folder, stemming = TRUE, language = \"english\", minWordLength = 4,\n",
    "                            minDocFreq = 2, stopwords = words_to_remove_in_article, removeNumbers = TRUE)\n",
    "\n",
    "# folder_i <-\"/home/harish/PycharmProjects/Topic-Modeling/Data Extraction/dataset/speeches/brainard.pdf\"\n",
    "\n",
    "# #build other dtm\n",
    "# lsatextmatrix2003 <- textmatrix(mydir = folder_i, vocabulary = rownames(lsatextmatrix))\n",
    "\n",
    "# #perform lsa\n",
    "# lsa2002 <- lsa(lsatextmatrix)\n",
    "\n",
    "\n",
    "# ##fold in\n",
    "# lsa2003folded <- fold_in(lsatextmatrix2003 ,lsa2002)"
   ]
  },
  {
   "cell_type": "code",
   "execution_count": null,
   "metadata": {},
   "outputs": [],
   "source": [
    "lsatextmatrix"
   ]
  },
  {
   "cell_type": "markdown",
   "metadata": {},
   "source": [
    "# Lexicon based progress over year"
   ]
  },
  {
   "cell_type": "code",
   "execution_count": null,
   "metadata": {
    "collapsed": true
   },
   "outputs": [],
   "source": [
    "lsa"
   ]
  }
 ],
 "metadata": {
  "kernelspec": {
   "display_name": "R",
   "language": "R",
   "name": "ir"
  },
  "language_info": {
   "codemirror_mode": "r",
   "file_extension": ".r",
   "mimetype": "text/x-r-source",
   "name": "R",
   "pygments_lexer": "r",
   "version": "3.4.2"
  }
 },
 "nbformat": 4,
 "nbformat_minor": 2
}
