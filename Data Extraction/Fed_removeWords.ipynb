{
 "cells": [
  {
   "cell_type": "markdown",
   "metadata": {},
   "source": [
    "# Preprocessing the Text using custom stop words"
   ]
  },
  {
   "cell_type": "code",
   "execution_count": 4,
   "metadata": {
    "collapsed": true
   },
   "outputs": [],
   "source": [
    "import os\n",
    "import shutil\n",
    "import string\n"
   ]
  },
  {
   "cell_type": "code",
   "execution_count": 5,
   "metadata": {
    "collapsed": true
   },
   "outputs": [],
   "source": [
    "os.chdir('/home/harish/PycharmProjects/Topic-Modeling/Data Extraction/dataset/')\n"
   ]
  },
  {
   "cell_type": "code",
   "execution_count": 6,
   "metadata": {
    "collapsed": true
   },
   "outputs": [],
   "source": [
    "# #reading each file names\n",
    "# for fn in os.listdir('.'):\n",
    "#      if os.path.isfile(fn):\n",
    "#             tx = open(fn, 'r+')\n",
    "#             print(fn)\n",
    "            "
   ]
  },
  {
   "cell_type": "code",
   "execution_count": 7,
   "metadata": {
    "collapsed": true
   },
   "outputs": [],
   "source": [
    "import nltk\n",
    "from nltk.corpus import stopwords\n",
    "from nltk import SnowballStemmer\n",
    "\n",
    "stopwords = nltk.corpus.stopwords.words('english')"
   ]
  },
  {
   "cell_type": "code",
   "execution_count": 8,
   "metadata": {
    "collapsed": true
   },
   "outputs": [],
   "source": [
    "custom_stopwords = [\"system\",\"reserve\",\"tthe\",\"rnthe\",\n",
    "                    \"participants\", \"continue\", \"open\",\"committee\",\n",
    "                    \"federal\", \"also\", \"meeting\", \"members\", \n",
    "                    \"FOMC\", \"\\r\",\"\\t\",\"Present\", \"\\n\", 'year',\"discussion\", 'turned','authority', 'member','members','manager','january', 'february', 'march', \n",
    "                    'april', 'may', 'june', 'july','august', 'september', 'october', \n",
    "                    'november', 'december',\"system\",\"reserve\",\"rate\", \"continue\", \n",
    "                    \"open\",\"committee\", \"federal\", \"market\",\n",
    "                    \"recent\", \"meeting\", \"FOMC\", \"\\r\",\"\\t\",\"Present\", \"\\n\", 'year']"
   ]
  },
  {
   "cell_type": "code",
   "execution_count": 9,
   "metadata": {},
   "outputs": [],
   "source": [
    "for word in custom_stopwords:\n",
    "    stopwords.append(word)"
   ]
  },
  {
   "cell_type": "markdown",
   "metadata": {},
   "source": [
    "## Merge All month files into respective year file"
   ]
  },
  {
   "cell_type": "code",
   "execution_count": 14,
   "metadata": {
    "collapsed": true
   },
   "outputs": [],
   "source": [
    "path = '/home/harish/PycharmProjects/Topic-Modeling/Data Extraction/dataset/FullDataset/'\n",
    "\n",
    "for root, dirs, files in os.walk(path):\n",
    "    for fn in files:\n",
    "        lst = []\n",
    "        os.chdir(root)\n",
    "        fin = open(fn, \"r\")\n",
    "#         directory = root+\"/out/\"\n",
    "        directory = path + 'yearbasis/'\n",
    "        if not os.path.exists(directory):\n",
    "            os.makedirs(directory)\n",
    "        \n",
    "\n",
    "        for w in fin.read().lower().split():\n",
    "            each_word = w.lower().strip(string.punctuation)#March, becomes march\n",
    "            if each_word not in stopwords:\n",
    "                lst.append(w)\n",
    "        \n",
    "        filename = str(fn) \n",
    "        if len(filename) > 16:\n",
    "            fname = filename[11:15]\n",
    "        else:\n",
    "            fname = filename[:4]\n",
    "        \n",
    "        fout = open(directory+ fname, \"a\")\n",
    "        fout.write(\" \".join(lst))\n",
    "        \n",
    "        fin.close()\n",
    "        fout.close()"
   ]
  },
  {
   "cell_type": "code",
   "execution_count": 13,
   "metadata": {},
   "outputs": [
    {
     "data": {
      "text/plain": [
       "'2008'"
      ]
     },
     "execution_count": 13,
     "metadata": {},
     "output_type": "execute_result"
    }
   ],
   "source": [
    "st = 'fomcminutes20080805.txt'\n",
    "st[11:15]"
   ]
  },
  {
   "cell_type": "markdown",
   "metadata": {},
   "source": [
    "### Do this if you want to preprocess text"
   ]
  },
  {
   "cell_type": "code",
   "execution_count": null,
   "metadata": {
    "scrolled": true
   },
   "outputs": [],
   "source": [
    "# #reading each file names\n",
    "# path = '/home/harish/PycharmProjects/Topic-Modeling/Data Extraction/dataset/'\n",
    "# output = '/home/harish/PycharmProjects/Topic-Modeling/Data Extraction/dataset/1993_2017/'\n",
    "# for root, dirs, files in os.walk(path):\n",
    "#     for fn in files:\n",
    "#         lst = []\n",
    "#         os.chdir(root)\n",
    "#         fin = open(fn, \"r\")\n",
    "# #         directory = root+\"/out/\"\n",
    "# #         directory = path + 'pdftotext/'\n",
    "#         directory = output\n",
    "#         if not os.path.exists(directory):\n",
    "#             os.makedirs(directory)\n",
    "        \n",
    "#         fout = open(directory+ fn, \"w+\")\n",
    "        \n",
    "#         Flag = False\n",
    "#         before = None\n",
    "#         count = 0\n",
    "#         for w in fin.read().lower().split():\n",
    "#             each_word = w.lower().strip(string.punctuation)#March, becomes march\n",
    "#             if before == 'committee' and each_word ==  'ratified':\n",
    "#                 Flag = True\n",
    "#                 count +=1\n",
    "#                 print(count)\n",
    "#             if each_word not in stopwords and Flag == True:\n",
    "#                 lst.append(w)\n",
    "# #                 if  each_word == 'march,':\n",
    "# #                     print(w)\n",
    "#             before = each_word\n",
    "            \n",
    "        \n",
    "#         fout = open(directory+ fn, \"w+\")\n",
    "#         fout.write(\" \".join(lst))\n",
    "        \n",
    "#         fin.close()\n",
    "#         fout.close()"
   ]
  },
  {
   "cell_type": "markdown",
   "metadata": {},
   "source": [
    "### Run this if you want remove all the out/ folders automatically"
   ]
  },
  {
   "cell_type": "code",
   "execution_count": null,
   "metadata": {
    "collapsed": true
   },
   "outputs": [],
   "source": [
    "#reading each file names\n",
    "path = '/home/harish/PycharmProjects/Topic-Modeling/Data Extraction/dataset/'\n",
    "for root, dirs, files in os.walk(path):\n",
    "    for fn in files:\n",
    "        lst = []\n",
    "        os.chdir(root)\n",
    "        fin = open(fn, \"r\")\n",
    "        directory = root+\"/out/\"\n",
    "        \n",
    "        try:\n",
    "            shutil.rmtree(directory)\n",
    "        except:\n",
    "            pass"
   ]
  },
  {
   "cell_type": "code",
   "execution_count": 54,
   "metadata": {},
   "outputs": [
    {
     "data": {
      "text/plain": [
       "'committee\\r\\nratified'"
      ]
     },
     "execution_count": 54,
     "metadata": {},
     "output_type": "execute_result"
    }
   ],
   "source": [
    "\n",
    "s = \"committee\\r\\nratified\"\n",
    "s.replace(\"\\r\",\" \").replace(\"\\n\",\" \").replace(\"\\t\",\" \")\n",
    "# print(strin[0])\n",
    "# if strin in \"committee ratified\":\n",
    "#     print(\"s\")\n",
    "s"
   ]
  },
  {
   "cell_type": "code",
   "execution_count": 53,
   "metadata": {},
   "outputs": [
    {
     "data": {
      "text/plain": [
       "'SdfdsfS2sdff'"
      ]
     },
     "execution_count": 53,
     "metadata": {},
     "output_type": "execute_result"
    }
   ],
   "source": [
    "num = \"Sdfdsf\\1232sdff\"\n",
    "num.replace(\"\\1\",\" \")"
   ]
  },
  {
   "cell_type": "code",
   "execution_count": null,
   "metadata": {
    "collapsed": true
   },
   "outputs": [],
   "source": []
  }
 ],
 "metadata": {
  "kernelspec": {
   "display_name": "Python 3",
   "language": "python",
   "name": "python3"
  },
  "language_info": {
   "codemirror_mode": {
    "name": "ipython",
    "version": 3
   },
   "file_extension": ".py",
   "mimetype": "text/x-python",
   "name": "python",
   "nbconvert_exporter": "python",
   "pygments_lexer": "ipython3",
   "version": "3.5.2"
  }
 },
 "nbformat": 4,
 "nbformat_minor": 2
}
